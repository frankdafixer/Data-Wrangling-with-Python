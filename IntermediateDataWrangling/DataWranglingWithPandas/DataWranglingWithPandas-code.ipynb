{
 "cells": [
  {
   "cell_type": "code",
   "execution_count": null,
   "id": "952633de",
   "metadata": {},
   "outputs": [],
   "source": [
    "#######################################################\n",
    "#######################################################\n",
    "############    COPYRIGHT - DATA SOCIETY   ############\n",
    "#######################################################\n",
    "#######################################################\n",
    "\n",
    "## DATAWRANGLINGINPYTHON/DATAWRANGLINGWITHPANDAS/DATAWRANGLINGINPYTHON DATAWRANGLINGWITHPANDAS 1 ##\n",
    "\n",
    "## NOTE: To run individual pieces of code, select the line of code and\n",
    "##       press ctrl + enter for PCs or command + enter for Macs\n",
    "\n",
    "\n"
   ]
  },
  {
   "cell_type": "code",
   "execution_count": 2,
   "id": "d994b5d0",
   "metadata": {},
   "outputs": [],
   "source": [
    "#=================================================-\n",
    "#### Slide 6: Import pandas and pathlib  ####\n",
    "\n",
    "import numpy as np\n",
    "import pandas as pd\n",
    "from pathlib import Path"
   ]
  },
  {
   "cell_type": "code",
   "execution_count": 3,
   "id": "069343c7",
   "metadata": {},
   "outputs": [],
   "source": [
    "#=================================================-\n",
    "#### Slide 7: Directory settings  ####\n",
    "\n",
    "data_dir = Path.cwd().parent / \"data\""
   ]
  },
  {
   "cell_type": "code",
   "execution_count": 4,
   "id": "a9961242",
   "metadata": {},
   "outputs": [
    {
     "name": "stdout",
     "output_type": "stream",
     "text": [
      "0    45\n",
      "1    89\n",
      "2    67\n",
      "3    33\n",
      "dtype: int64\n",
      "[45 89 67 33]\n"
     ]
    }
   ],
   "source": [
    "#=================================================-\n",
    "#### Slide 9: Series  ####\n",
    "\n",
    "num_series = pd.Series([45, 89, 67, 33])\n",
    "print(num_series)\n",
    "print(num_series.values)\n",
    "\n",
    "\n"
   ]
  },
  {
   "cell_type": "code",
   "execution_count": 5,
   "id": "43f85d9b",
   "metadata": {},
   "outputs": [
    {
     "name": "stdout",
     "output_type": "stream",
     "text": [
      "DatetimeIndex(['2017-01-31', '2017-02-28', '2017-03-31'], dtype='datetime64[ns]', freq='M')\n",
      "DatetimeIndex(['2017-01-31', '2017-02-28', '2017-03-31', '2017-04-30'], dtype='datetime64[ns]', freq='M')\n"
     ]
    }
   ],
   "source": [
    "#=================================================-\n",
    "#### Slide 10: Date series: ranges by month  ####\n",
    "\n",
    "# Create a date range in monthly intervals\n",
    "print(pd.date_range(start = '20170101', end = '20170331', freq = 'M'))\n",
    "# Create a date range with no end date, but specifying start date, frequency, and number of periods\n",
    "print(pd.date_range(start = '20170101', freq = 'M', periods = 4))\n",
    "\n",
    "\n"
   ]
  },
  {
   "cell_type": "code",
   "execution_count": 6,
   "id": "7847f3d8",
   "metadata": {},
   "outputs": [
    {
     "name": "stdout",
     "output_type": "stream",
     "text": [
      "DatetimeIndex(['2017-01-01 00:00:00', '2017-01-01 01:00:00',\n",
      "               '2017-01-01 02:00:00', '2017-01-01 03:00:00',\n",
      "               '2017-01-01 04:00:00', '2017-01-01 05:00:00',\n",
      "               '2017-01-01 06:00:00', '2017-01-01 07:00:00',\n",
      "               '2017-01-01 08:00:00', '2017-01-01 09:00:00',\n",
      "               '2017-01-01 10:00:00', '2017-01-01 11:00:00',\n",
      "               '2017-01-01 12:00:00', '2017-01-01 13:00:00',\n",
      "               '2017-01-01 14:00:00', '2017-01-01 15:00:00',\n",
      "               '2017-01-01 16:00:00', '2017-01-01 17:00:00',\n",
      "               '2017-01-01 18:00:00', '2017-01-01 19:00:00',\n",
      "               '2017-01-01 20:00:00', '2017-01-01 21:00:00',\n",
      "               '2017-01-01 22:00:00', '2017-01-01 23:00:00',\n",
      "               '2017-01-02 00:00:00'],\n",
      "              dtype='datetime64[ns]', freq='H')\n"
     ]
    }
   ],
   "source": [
    "#=================================================-\n",
    "#### Slide 11: Date series: ranges by hour  ####\n",
    "\n",
    "print(pd.date_range(start = '20170101', end = '20170102', freq = 'H'))"
   ]
  },
  {
   "cell_type": "code",
   "execution_count": 8,
   "id": "1dc1be40",
   "metadata": {},
   "outputs": [
    {
     "name": "stdout",
     "output_type": "stream",
     "text": [
      "0     5\n",
      "1    10\n",
      "2    15\n",
      "dtype: int64\n"
     ]
    }
   ],
   "source": [
    "#=================================================-\n",
    "#### Slide 12: Series methods  ####\n",
    "\n",
    "norm_series = pd.Series(range(5, 20, 5))\n",
    "print(norm_series)"
   ]
  },
  {
   "cell_type": "code",
   "execution_count": 10,
   "id": "03921a84-190d-45e0-916a-af13d2f83174",
   "metadata": {},
   "outputs": [
    {
     "name": "stdout",
     "output_type": "stream",
     "text": [
      "(3,)\n"
     ]
    }
   ],
   "source": [
    "#=================================================-\n",
    "#### Slide 14: Series - functions  ####\n",
    "\n",
    "print(norm_series.shape)    #<- number of rows and columns"
   ]
  },
  {
   "cell_type": "code",
   "execution_count": 11,
   "id": "06efc595-f901-46e0-baf2-633f7180244c",
   "metadata": {},
   "outputs": [
    {
     "name": "stdout",
     "output_type": "stream",
     "text": [
      "10.0\n"
     ]
    }
   ],
   "source": [
    "print(norm_series.mean())   #<- series mean"
   ]
  },
  {
   "cell_type": "code",
   "execution_count": 12,
   "id": "05e9b011-eeb5-4acf-973e-b3b755802663",
   "metadata": {},
   "outputs": [
    {
     "name": "stdout",
     "output_type": "stream",
     "text": [
      "10.0\n"
     ]
    }
   ],
   "source": [
    "print(norm_series.median()) #<- series median"
   ]
  },
  {
   "cell_type": "code",
   "execution_count": 13,
   "id": "8ab0460e-a62b-4303-89d1-643dccb2ed78",
   "metadata": {},
   "outputs": [
    {
     "name": "stdout",
     "output_type": "stream",
     "text": [
      "5.0\n"
     ]
    }
   ],
   "source": [
    "print(norm_series.std())    #<- series std deviation"
   ]
  },
  {
   "cell_type": "code",
   "execution_count": 15,
   "id": "414e29cb",
   "metadata": {},
   "outputs": [
    {
     "name": "stdout",
     "output_type": "stream",
     "text": [
      "[ 5 10 15]\n",
      "3\n",
      "5     1\n",
      "10    1\n",
      "15    1\n",
      "dtype: int64\n",
      "0\n",
      "2\n"
     ]
    }
   ],
   "source": [
    "#=================================================-\n",
    "#### Slide 15: Series - functions  ####\n",
    "\n",
    "# Show only unique values.\n",
    "print(norm_series.unique())\n",
    "# Show number of unique values.\n",
    "print(norm_series.nunique())      \n",
    "# Show counts of unique values.\n",
    "print(norm_series.value_counts()) \n",
    "# Position of the min value.\n",
    "print(norm_series.idxmin()) \n",
    "# Position of the max value.\n",
    "print(norm_series.idxmax())       "
   ]
  },
  {
   "cell_type": "code",
   "execution_count": 18,
   "id": "486c022f-a7a9-4bf0-887d-0b800edbb965",
   "metadata": {},
   "outputs": [
    {
     "data": {
      "text/plain": [
       "array([ 5, 10, 15])"
      ]
     },
     "execution_count": 18,
     "metadata": {},
     "output_type": "execute_result"
    }
   ],
   "source": [
    "norm_series.values"
   ]
  },
  {
   "cell_type": "code",
   "execution_count": 16,
   "id": "213b86f6-a4ec-41f5-ab37-d59c417abd5b",
   "metadata": {},
   "outputs": [],
   "source": [
    "arr = np.array(list(\"abc\"))"
   ]
  },
  {
   "cell_type": "code",
   "execution_count": 22,
   "id": "0602610b-8c39-4658-a360-74a2e7c9c4a4",
   "metadata": {},
   "outputs": [
    {
     "data": {
      "text/plain": [
       "2"
      ]
     },
     "execution_count": 22,
     "metadata": {},
     "output_type": "execute_result"
    }
   ],
   "source": [
    "np.argmax(arr)"
   ]
  },
  {
   "cell_type": "code",
   "execution_count": 23,
   "id": "10870e1a-9ddc-46fa-8071-0c4f3dd20243",
   "metadata": {},
   "outputs": [
    {
     "data": {
      "text/plain": [
       "2"
      ]
     },
     "execution_count": 23,
     "metadata": {},
     "output_type": "execute_result"
    }
   ],
   "source": [
    "arr.argmax()"
   ]
  },
  {
   "cell_type": "code",
   "execution_count": 24,
   "id": "3c2071ac-68b4-4b23-9a16-b3f77144b276",
   "metadata": {},
   "outputs": [],
   "source": [
    "s = pd.Series(arr)"
   ]
  },
  {
   "cell_type": "code",
   "execution_count": 26,
   "id": "6b9aec8c-5d7e-4126-9130-ffd4762ae057",
   "metadata": {},
   "outputs": [
    {
     "data": {
      "text/plain": [
       "Index(['a', 'b', 'c'], dtype='object')"
      ]
     },
     "execution_count": 26,
     "metadata": {},
     "output_type": "execute_result"
    }
   ],
   "source": [
    "s.value_counts().index"
   ]
  },
  {
   "cell_type": "code",
   "execution_count": 27,
   "id": "69ada186",
   "metadata": {},
   "outputs": [
    {
     "name": "stdout",
     "output_type": "stream",
     "text": [
      "0    1.0\n",
      "1    2.0\n",
      "2    3.0\n",
      "dtype: float64\n",
      "0    3.0\n",
      "1    2.0\n",
      "2    1.0\n",
      "dtype: float64\n"
     ]
    }
   ],
   "source": [
    "#=================================================-\n",
    "#### Slide 16: Series - rank  ####\n",
    "\n",
    "# Ranks from smallest to largest.\n",
    "print(norm_series.rank())   \n",
    "# Ranks from largest to smallest.\n",
    "print(norm_series.rank(ascending = False))   \n",
    "\n",
    "\n"
   ]
  },
  {
   "cell_type": "code",
   "execution_count": 28,
   "id": "6ca8060a-4431-458d-952d-ce845a31c707",
   "metadata": {},
   "outputs": [
    {
     "name": "stdout",
     "output_type": "stream",
     "text": [
      "0     5\n",
      "1    10\n",
      "2    15\n",
      "dtype: int64\n"
     ]
    }
   ],
   "source": [
    "#=================================================-\n",
    "#### Slide 17: Series - sort and cumulative sum  ####\n",
    "\n",
    "# Sorts values.\n",
    "print(norm_series.sort_values())   "
   ]
  },
  {
   "cell_type": "code",
   "execution_count": 29,
   "id": "db6d767a-af99-4c5b-ad19-d3cd90fd06f4",
   "metadata": {},
   "outputs": [
    {
     "name": "stdout",
     "output_type": "stream",
     "text": [
      "0     5\n",
      "1    15\n",
      "2    30\n",
      "dtype: int64\n"
     ]
    }
   ],
   "source": [
    "# Returns a series that is the cumulative sum of `norm_series`. \n",
    "print(norm_series.cumsum())       "
   ]
  },
  {
   "cell_type": "code",
   "execution_count": 32,
   "id": "83964481-4040-4b22-9d35-383b0647c728",
   "metadata": {},
   "outputs": [
    {
     "data": {
      "text/plain": [
       "2"
      ]
     },
     "execution_count": 32,
     "metadata": {},
     "output_type": "execute_result"
    }
   ],
   "source": [
    "norm_series.argmax()"
   ]
  },
  {
   "cell_type": "code",
   "execution_count": 32,
   "id": "1f5124df-775e-4773-acff-9a27fec7adc5",
   "metadata": {},
   "outputs": [
    {
     "data": {
      "text/plain": [
       "2"
      ]
     },
     "execution_count": 32,
     "metadata": {},
     "output_type": "execute_result"
    }
   ],
   "source": [
    "norm_series.values.arg"
   ]
  },
  {
   "cell_type": "code",
   "execution_count": 33,
   "id": "70ec8b39-b293-4b58-b577-ab2da85ae309",
   "metadata": {},
   "outputs": [
    {
     "data": {
      "text/plain": [
       "2"
      ]
     },
     "execution_count": 33,
     "metadata": {},
     "output_type": "execute_result"
    }
   ],
   "source": [
    "norm_series.idxmax()"
   ]
  },
  {
   "cell_type": "code",
   "execution_count": 34,
   "id": "7d01a37c-2784-4971-b1e7-de7ec0ce2120",
   "metadata": {},
   "outputs": [
    {
     "data": {
      "text/plain": [
       "array([ 5, 10, 15])"
      ]
     },
     "execution_count": 34,
     "metadata": {},
     "output_type": "execute_result"
    }
   ],
   "source": [
    "norm_series.values"
   ]
  },
  {
   "cell_type": "code",
   "execution_count": null,
   "id": "db7ddfbb-260f-4d27-ab68-23cdf1bc2fac",
   "metadata": {},
   "outputs": [],
   "source": [
    "#######################################################\n",
    "####  CONGRATULATIONS ON COMPLETING THIS MODULE!   ####\n",
    "#######################################################"
   ]
  },
  {
   "cell_type": "code",
   "execution_count": null,
   "id": "8690d59e",
   "metadata": {},
   "outputs": [],
   "source": [
    "#######################################################\n",
    "#######################################################\n",
    "############    COPYRIGHT - DATA SOCIETY   ############\n",
    "#######################################################\n",
    "#######################################################\n",
    "\n",
    "## DATAWRANGLINGINPYTHON/DATAWRANGLINGWITHPANDAS/DATAWRANGLINGINPYTHON DATAWRANGLINGWITHPANDAS 2 ##\n",
    "\n",
    "## NOTE: To run individual pieces of code, select the line of code and\n",
    "##       press ctrl + enter for PCs or command + enter for Macs\n",
    "\n",
    "\n"
   ]
  },
  {
   "cell_type": "code",
   "execution_count": 35,
   "id": "7d95fb74",
   "metadata": {},
   "outputs": [],
   "source": [
    "#=================================================-\n",
    "#### Slide 3: Series to DataFrame  ####\n",
    "\n",
    "# Series 1 - times:\n",
    "times = pd.date_range(start = '20170101', end = '20170630', freq = 'M')\n",
    "\n",
    "# Series 2 - days out of the office:\n",
    "days = pd.Series([2, 2, 6, 6, 2, 3])\n",
    "\n",
    "\n"
   ]
  },
  {
   "cell_type": "code",
   "execution_count": 36,
   "id": "3849c8e2",
   "metadata": {},
   "outputs": [
    {
     "name": "stdout",
     "output_type": "stream",
     "text": [
      "   Timestamp  OOO\n",
      "0 2017-01-31    2\n",
      "1 2017-02-28    2\n",
      "2 2017-03-31    6\n",
      "3 2017-04-30    6\n",
      "4 2017-05-31    2\n"
     ]
    }
   ],
   "source": [
    "#=================================================-\n",
    "#### Slide 4: Generate DataFrame from Series  ####\n",
    "\n",
    "# Create a DataFrame from the two Series we just created, as a dictionary.\n",
    "average_ooo = pd.DataFrame({'Timestamp': times, 'OOO': days})\n",
    "\n",
    "# View the first few rows of the DataFrame, using the Pandas function `.head()`.\n",
    "print(average_ooo.head())\n",
    "\n",
    "\n"
   ]
  },
  {
   "cell_type": "code",
   "execution_count": 37,
   "id": "df1b478d",
   "metadata": {},
   "outputs": [
    {
     "name": "stdout",
     "output_type": "stream",
     "text": [
      "<class 'pandas.core.frame.DataFrame'>\n",
      "(6, 2)\n"
     ]
    }
   ],
   "source": [
    "#=================================================-\n",
    "#### Slide 5: Look up DataFrame information  ####\n",
    "\n",
    "# Look up the type of object.\n",
    "print(type(average_ooo))  \n",
    "# Look up its shape.\n",
    "print(average_ooo.shape) \n",
    "\n",
    "\n"
   ]
  },
  {
   "cell_type": "code",
   "execution_count": 38,
   "id": "0e0b7f2d",
   "metadata": {},
   "outputs": [
    {
     "name": "stdout",
     "output_type": "stream",
     "text": [
      "Index(['Timestamp', 'OOO'], dtype='object')\n",
      "<class 'pandas.core.frame.DataFrame'>\n",
      "RangeIndex: 6 entries, 0 to 5\n",
      "Data columns (total 2 columns):\n",
      " #   Column     Non-Null Count  Dtype         \n",
      "---  ------     --------------  -----         \n",
      " 0   Timestamp  6 non-null      datetime64[ns]\n",
      " 1   OOO        6 non-null      int64         \n",
      "dtypes: datetime64[ns](1), int64(1)\n",
      "memory usage: 224.0 bytes\n",
      "None\n",
      "            OOO\n",
      "count  6.000000\n",
      "mean   3.500000\n",
      "std    1.974842\n",
      "min    2.000000\n",
      "25%    2.000000\n",
      "50%    2.500000\n",
      "75%    5.250000\n",
      "max    6.000000\n"
     ]
    }
   ],
   "source": [
    "#=================================================-\n",
    "#### Slide 7: DataFrame description metrics (cont'd)  ####\n",
    "\n",
    "print(average_ooo.columns)\n",
    "print(average_ooo.info())\n",
    "print(average_ooo.describe())\n",
    "\n",
    "\n"
   ]
  },
  {
   "cell_type": "code",
   "execution_count": 39,
   "id": "215d7c6f-3d2b-4889-81e5-2d1018c395b8",
   "metadata": {},
   "outputs": [],
   "source": [
    "#=================================================-\n",
    "#### Slide 8: Extracting a single column   ####\n",
    "\n",
    "average_ooo['Timestamp']"
   ]
  },
  {
   "cell_type": "code",
   "execution_count": 42,
   "id": "56d65dd1-d119-414f-9411-6ff9c5f0635c",
   "metadata": {},
   "outputs": [
    {
     "data": {
      "text/plain": [
       "(6,)"
      ]
     },
     "execution_count": 42,
     "metadata": {},
     "output_type": "execute_result"
    }
   ],
   "source": [
    "average_ooo['Timestamp'].shape"
   ]
  },
  {
   "cell_type": "code",
   "execution_count": 48,
   "id": "ffa42593-7216-40b5-8d69-73cb2cb7280f",
   "metadata": {},
   "outputs": [
    {
     "data": {
      "text/html": [
       "<div>\n",
       "<style scoped>\n",
       "    .dataframe tbody tr th:only-of-type {\n",
       "        vertical-align: middle;\n",
       "    }\n",
       "\n",
       "    .dataframe tbody tr th {\n",
       "        vertical-align: top;\n",
       "    }\n",
       "\n",
       "    .dataframe thead th {\n",
       "        text-align: right;\n",
       "    }\n",
       "</style>\n",
       "<table border=\"1\" class=\"dataframe\">\n",
       "  <thead>\n",
       "    <tr style=\"text-align: right;\">\n",
       "      <th></th>\n",
       "      <th>Timestamp</th>\n",
       "    </tr>\n",
       "  </thead>\n",
       "  <tbody>\n",
       "    <tr>\n",
       "      <th>0</th>\n",
       "      <td>2017-01-31</td>\n",
       "    </tr>\n",
       "    <tr>\n",
       "      <th>1</th>\n",
       "      <td>2017-02-28</td>\n",
       "    </tr>\n",
       "    <tr>\n",
       "      <th>2</th>\n",
       "      <td>2017-03-31</td>\n",
       "    </tr>\n",
       "    <tr>\n",
       "      <th>3</th>\n",
       "      <td>2017-04-30</td>\n",
       "    </tr>\n",
       "    <tr>\n",
       "      <th>4</th>\n",
       "      <td>2017-05-31</td>\n",
       "    </tr>\n",
       "    <tr>\n",
       "      <th>5</th>\n",
       "      <td>2017-06-30</td>\n",
       "    </tr>\n",
       "  </tbody>\n",
       "</table>\n",
       "</div>"
      ],
      "text/plain": [
       "   Timestamp\n",
       "0 2017-01-31\n",
       "1 2017-02-28\n",
       "2 2017-03-31\n",
       "3 2017-04-30\n",
       "4 2017-05-31\n",
       "5 2017-06-30"
      ]
     },
     "execution_count": 48,
     "metadata": {},
     "output_type": "execute_result"
    }
   ],
   "source": [
    "average_ooo[['Timestamp']]"
   ]
  },
  {
   "cell_type": "code",
   "execution_count": 46,
   "id": "5611decf-8c3f-42db-b6fc-66e11d5993ff",
   "metadata": {},
   "outputs": [
    {
     "data": {
      "text/plain": [
       "(6, 1)"
      ]
     },
     "execution_count": 46,
     "metadata": {},
     "output_type": "execute_result"
    }
   ],
   "source": [
    "average_ooo[['Timestamp']].shape"
   ]
  },
  {
   "cell_type": "code",
   "execution_count": 49,
   "id": "4d8cadb6-5681-420e-aa97-ee2cf19f4b25",
   "metadata": {},
   "outputs": [
    {
     "name": "stdout",
     "output_type": "stream",
     "text": [
      "Timestamp    2017-06-30 00:00:00\n",
      "OOO                            3\n",
      "Name: 5, dtype: object\n"
     ]
    }
   ],
   "source": [
    "#=================================================-\n",
    "#### Slide 10: Extracting a single row  ####\n",
    "\n",
    "june_ooo = average_ooo.iloc[5, :]\n",
    "print(june_ooo)"
   ]
  },
  {
   "cell_type": "code",
   "execution_count": 53,
   "id": "b79763aa-bfcc-48c9-9648-e301d654973a",
   "metadata": {},
   "outputs": [
    {
     "data": {
      "text/plain": [
       "Timestamp    2017-06-30 00:00:00\n",
       "OOO                            3\n",
       "Name: 5, dtype: object"
      ]
     },
     "execution_count": 53,
     "metadata": {},
     "output_type": "execute_result"
    }
   ],
   "source": [
    "june_ooo = average_ooo.iloc[5] #<- equivalent without the colon\n",
    "june_ooo"
   ]
  },
  {
   "cell_type": "code",
   "execution_count": 51,
   "id": "f3d6f7cd-8452-4103-82a1-ffe532e644d7",
   "metadata": {},
   "outputs": [
    {
     "data": {
      "text/plain": [
       "array([Timestamp('2017-06-30 00:00:00'), 3], dtype=object)"
      ]
     },
     "execution_count": 51,
     "metadata": {},
     "output_type": "execute_result"
    }
   ],
   "source": [
    "average_ooo.values[5]"
   ]
  },
  {
   "cell_type": "code",
   "execution_count": 62,
   "id": "bd1335ba-62a1-4e13-8c72-fc856dd0b2af",
   "metadata": {},
   "outputs": [
    {
     "data": {
      "text/html": [
       "<div>\n",
       "<style scoped>\n",
       "    .dataframe tbody tr th:only-of-type {\n",
       "        vertical-align: middle;\n",
       "    }\n",
       "\n",
       "    .dataframe tbody tr th {\n",
       "        vertical-align: top;\n",
       "    }\n",
       "\n",
       "    .dataframe thead th {\n",
       "        text-align: right;\n",
       "    }\n",
       "</style>\n",
       "<table border=\"1\" class=\"dataframe\">\n",
       "  <thead>\n",
       "    <tr style=\"text-align: right;\">\n",
       "      <th></th>\n",
       "      <th>OOO</th>\n",
       "    </tr>\n",
       "  </thead>\n",
       "  <tbody>\n",
       "    <tr>\n",
       "      <th>0</th>\n",
       "      <td>2</td>\n",
       "    </tr>\n",
       "    <tr>\n",
       "      <th>1</th>\n",
       "      <td>2</td>\n",
       "    </tr>\n",
       "    <tr>\n",
       "      <th>2</th>\n",
       "      <td>6</td>\n",
       "    </tr>\n",
       "    <tr>\n",
       "      <th>3</th>\n",
       "      <td>6</td>\n",
       "    </tr>\n",
       "    <tr>\n",
       "      <th>4</th>\n",
       "      <td>2</td>\n",
       "    </tr>\n",
       "    <tr>\n",
       "      <th>5</th>\n",
       "      <td>3</td>\n",
       "    </tr>\n",
       "  </tbody>\n",
       "</table>\n",
       "</div>"
      ],
      "text/plain": [
       "   OOO\n",
       "0    2\n",
       "1    2\n",
       "2    6\n",
       "3    6\n",
       "4    2\n",
       "5    3"
      ]
     },
     "execution_count": 62,
     "metadata": {},
     "output_type": "execute_result"
    }
   ],
   "source": [
    "average_ooo[[\"OOO\"]]"
   ]
  },
  {
   "cell_type": "code",
   "execution_count": 101,
   "id": "776221a1-986e-4773-828a-fbdf02065519",
   "metadata": {},
   "outputs": [],
   "source": [
    "#=================================================-\n",
    "#### Slide 13: Index for our dataset  ####\n",
    "\n",
    "# Let's use the `Timestamp` column as our new index.\n",
    "average_ooo = average_ooo.set_index('Timestamp')"
   ]
  },
  {
   "cell_type": "code",
   "execution_count": 107,
   "id": "d1f951d2-595d-4da2-8609-6ce4480f6123",
   "metadata": {},
   "outputs": [
    {
     "data": {
      "text/html": [
       "<div>\n",
       "<style scoped>\n",
       "    .dataframe tbody tr th:only-of-type {\n",
       "        vertical-align: middle;\n",
       "    }\n",
       "\n",
       "    .dataframe tbody tr th {\n",
       "        vertical-align: top;\n",
       "    }\n",
       "\n",
       "    .dataframe thead th {\n",
       "        text-align: right;\n",
       "    }\n",
       "</style>\n",
       "<table border=\"1\" class=\"dataframe\">\n",
       "  <thead>\n",
       "    <tr style=\"text-align: right;\">\n",
       "      <th></th>\n",
       "      <th>OOO</th>\n",
       "    </tr>\n",
       "    <tr>\n",
       "      <th>Timestamp</th>\n",
       "      <th></th>\n",
       "    </tr>\n",
       "  </thead>\n",
       "  <tbody>\n",
       "    <tr>\n",
       "      <th>2017-01-31</th>\n",
       "      <td>2</td>\n",
       "    </tr>\n",
       "    <tr>\n",
       "      <th>2017-02-28</th>\n",
       "      <td>2</td>\n",
       "    </tr>\n",
       "    <tr>\n",
       "      <th>2017-03-31</th>\n",
       "      <td>6</td>\n",
       "    </tr>\n",
       "    <tr>\n",
       "      <th>2017-04-30</th>\n",
       "      <td>6</td>\n",
       "    </tr>\n",
       "    <tr>\n",
       "      <th>2017-05-31</th>\n",
       "      <td>2</td>\n",
       "    </tr>\n",
       "    <tr>\n",
       "      <th>2017-06-30</th>\n",
       "      <td>3</td>\n",
       "    </tr>\n",
       "  </tbody>\n",
       "</table>\n",
       "</div>"
      ],
      "text/plain": [
       "            OOO\n",
       "Timestamp      \n",
       "2017-01-31    2\n",
       "2017-02-28    2\n",
       "2017-03-31    6\n",
       "2017-04-30    6\n",
       "2017-05-31    2\n",
       "2017-06-30    3"
      ]
     },
     "execution_count": 107,
     "metadata": {},
     "output_type": "execute_result"
    }
   ],
   "source": [
    "average_ooo[average_ooo.index >= \"2017-01-31\"]"
   ]
  },
  {
   "cell_type": "code",
   "execution_count": 113,
   "id": "2d6c7409-229b-4584-b85e-5e14d1ba62a2",
   "metadata": {},
   "outputs": [
    {
     "data": {
      "text/html": [
       "<div>\n",
       "<style scoped>\n",
       "    .dataframe tbody tr th:only-of-type {\n",
       "        vertical-align: middle;\n",
       "    }\n",
       "\n",
       "    .dataframe tbody tr th {\n",
       "        vertical-align: top;\n",
       "    }\n",
       "\n",
       "    .dataframe thead th {\n",
       "        text-align: right;\n",
       "    }\n",
       "</style>\n",
       "<table border=\"1\" class=\"dataframe\">\n",
       "  <thead>\n",
       "    <tr style=\"text-align: right;\">\n",
       "      <th></th>\n",
       "      <th>OOO</th>\n",
       "    </tr>\n",
       "    <tr>\n",
       "      <th>Timestamp</th>\n",
       "      <th></th>\n",
       "    </tr>\n",
       "  </thead>\n",
       "  <tbody>\n",
       "    <tr>\n",
       "      <th>2017-01-31</th>\n",
       "      <td>2</td>\n",
       "    </tr>\n",
       "    <tr>\n",
       "      <th>2017-02-28</th>\n",
       "      <td>2</td>\n",
       "    </tr>\n",
       "    <tr>\n",
       "      <th>2017-03-31</th>\n",
       "      <td>6</td>\n",
       "    </tr>\n",
       "    <tr>\n",
       "      <th>2017-04-30</th>\n",
       "      <td>6</td>\n",
       "    </tr>\n",
       "    <tr>\n",
       "      <th>2017-05-31</th>\n",
       "      <td>2</td>\n",
       "    </tr>\n",
       "    <tr>\n",
       "      <th>2017-06-30</th>\n",
       "      <td>3</td>\n",
       "    </tr>\n",
       "  </tbody>\n",
       "</table>\n",
       "</div>"
      ],
      "text/plain": [
       "            OOO\n",
       "Timestamp      \n",
       "2017-01-31    2\n",
       "2017-02-28    2\n",
       "2017-03-31    6\n",
       "2017-04-30    6\n",
       "2017-05-31    2\n",
       "2017-06-30    3"
      ]
     },
     "execution_count": 113,
     "metadata": {},
     "output_type": "execute_result"
    }
   ],
   "source": [
    "average_ooo[\"2017-01-31\":]"
   ]
  },
  {
   "cell_type": "code",
   "execution_count": null,
   "id": "57cfa0b5-ce8d-4086-97de-0c8b9083b00c",
   "metadata": {},
   "outputs": [],
   "source": [
    "#=================================================-\n",
    "#### Slide 14: Looking up by the new index  ####\n",
    "\n",
    "print(average_ooo.index)\n",
    "# Look up a specific row by index."
   ]
  },
  {
   "cell_type": "code",
   "execution_count": 92,
   "id": "73bf0ded-3d64-4996-8c86-0117de988e3f",
   "metadata": {},
   "outputs": [
    {
     "data": {
      "text/html": [
       "<div>\n",
       "<style scoped>\n",
       "    .dataframe tbody tr th:only-of-type {\n",
       "        vertical-align: middle;\n",
       "    }\n",
       "\n",
       "    .dataframe tbody tr th {\n",
       "        vertical-align: top;\n",
       "    }\n",
       "\n",
       "    .dataframe thead th {\n",
       "        text-align: right;\n",
       "    }\n",
       "</style>\n",
       "<table border=\"1\" class=\"dataframe\">\n",
       "  <thead>\n",
       "    <tr style=\"text-align: right;\">\n",
       "      <th></th>\n",
       "      <th>out_of_office</th>\n",
       "    </tr>\n",
       "    <tr>\n",
       "      <th>Timestamp</th>\n",
       "      <th></th>\n",
       "    </tr>\n",
       "  </thead>\n",
       "  <tbody>\n",
       "    <tr>\n",
       "      <th>2017-01-31</th>\n",
       "      <td>2</td>\n",
       "    </tr>\n",
       "    <tr>\n",
       "      <th>2017-02-28</th>\n",
       "      <td>2</td>\n",
       "    </tr>\n",
       "  </tbody>\n",
       "</table>\n",
       "</div>"
      ],
      "text/plain": [
       "            out_of_office\n",
       "Timestamp                \n",
       "2017-01-31              2\n",
       "2017-02-28              2"
      ]
     },
     "execution_count": 92,
     "metadata": {},
     "output_type": "execute_result"
    }
   ],
   "source": [
    "average_ooo.rename({\"OOO\": \"out_of_office\"}, axis=1).loc[:'2017-02-28', :\"out_of_office\"]"
   ]
  },
  {
   "cell_type": "code",
   "execution_count": 91,
   "id": "c2480092",
   "metadata": {},
   "outputs": [
    {
     "data": {
      "text/html": [
       "<div>\n",
       "<style scoped>\n",
       "    .dataframe tbody tr th:only-of-type {\n",
       "        vertical-align: middle;\n",
       "    }\n",
       "\n",
       "    .dataframe tbody tr th {\n",
       "        vertical-align: top;\n",
       "    }\n",
       "\n",
       "    .dataframe thead th {\n",
       "        text-align: right;\n",
       "    }\n",
       "</style>\n",
       "<table border=\"1\" class=\"dataframe\">\n",
       "  <thead>\n",
       "    <tr style=\"text-align: right;\">\n",
       "      <th></th>\n",
       "    </tr>\n",
       "    <tr>\n",
       "      <th>Timestamp</th>\n",
       "    </tr>\n",
       "  </thead>\n",
       "  <tbody>\n",
       "    <tr>\n",
       "      <th>2017-01-31</th>\n",
       "    </tr>\n",
       "  </tbody>\n",
       "</table>\n",
       "</div>"
      ],
      "text/plain": [
       "Empty DataFrame\n",
       "Columns: []\n",
       "Index: [2017-01-31 00:00:00]"
      ]
     },
     "execution_count": 91,
     "metadata": {},
     "output_type": "execute_result"
    }
   ],
   "source": [
    "average_ooo.iloc[:1, :0]"
   ]
  },
  {
   "cell_type": "code",
   "execution_count": 114,
   "id": "9f5a7709",
   "metadata": {},
   "outputs": [
    {
     "name": "stdout",
     "output_type": "stream",
     "text": [
      "RangeIndex(start=0, stop=6, step=1)\n",
      "   Timestamp  OOO\n",
      "0 2017-01-31    2\n",
      "1 2017-02-28    2\n",
      "2 2017-03-31    6\n",
      "3 2017-04-30    6\n",
      "4 2017-05-31    2\n",
      "5 2017-06-30    3\n"
     ]
    }
   ],
   "source": [
    "#=================================================-\n",
    "#### Slide 16: Reset the index  ####\n",
    "\n",
    "average_ooo = average_ooo.reset_index()\n",
    "print(average_ooo.index)\n",
    "# You can see that now `Timestamp` is once again a column vs. what it looked like when it was an index.\n",
    "print(average_ooo) \n",
    "\n",
    "\n",
    "#######################################################\n",
    "####  CONGRATULATIONS ON COMPLETING THIS MODULE!   ####\n",
    "#######################################################\n"
   ]
  },
  {
   "cell_type": "code",
   "execution_count": 119,
   "id": "31699037-2745-4003-86ab-8b0767224327",
   "metadata": {},
   "outputs": [
    {
     "data": {
      "text/html": [
       "<div>\n",
       "<style scoped>\n",
       "    .dataframe tbody tr th:only-of-type {\n",
       "        vertical-align: middle;\n",
       "    }\n",
       "\n",
       "    .dataframe tbody tr th {\n",
       "        vertical-align: top;\n",
       "    }\n",
       "\n",
       "    .dataframe thead th {\n",
       "        text-align: right;\n",
       "    }\n",
       "</style>\n",
       "<table border=\"1\" class=\"dataframe\">\n",
       "  <thead>\n",
       "    <tr style=\"text-align: right;\">\n",
       "      <th></th>\n",
       "      <th>Timestamp</th>\n",
       "      <th>OOO</th>\n",
       "    </tr>\n",
       "  </thead>\n",
       "  <tbody>\n",
       "    <tr>\n",
       "      <th>0</th>\n",
       "      <td>2017-01-31</td>\n",
       "      <td>2</td>\n",
       "    </tr>\n",
       "    <tr>\n",
       "      <th>1</th>\n",
       "      <td>2017-02-28</td>\n",
       "      <td>2</td>\n",
       "    </tr>\n",
       "    <tr>\n",
       "      <th>2</th>\n",
       "      <td>2017-03-31</td>\n",
       "      <td>6</td>\n",
       "    </tr>\n",
       "    <tr>\n",
       "      <th>3</th>\n",
       "      <td>2017-04-30</td>\n",
       "      <td>6</td>\n",
       "    </tr>\n",
       "    <tr>\n",
       "      <th>4</th>\n",
       "      <td>2017-05-31</td>\n",
       "      <td>2</td>\n",
       "    </tr>\n",
       "    <tr>\n",
       "      <th>5</th>\n",
       "      <td>2017-06-30</td>\n",
       "      <td>3</td>\n",
       "    </tr>\n",
       "  </tbody>\n",
       "</table>\n",
       "</div>"
      ],
      "text/plain": [
       "   Timestamp  OOO\n",
       "0 2017-01-31    2\n",
       "1 2017-02-28    2\n",
       "2 2017-03-31    6\n",
       "3 2017-04-30    6\n",
       "4 2017-05-31    2\n",
       "5 2017-06-30    3"
      ]
     },
     "execution_count": 119,
     "metadata": {},
     "output_type": "execute_result"
    }
   ],
   "source": [
    "average_ooo.loc[average_ooo[\"Timestamp\"] >= \"2017-01-31\"]"
   ]
  },
  {
   "cell_type": "code",
   "execution_count": 122,
   "id": "adc48a71-7dca-4921-bb05-c6418df427e4",
   "metadata": {},
   "outputs": [
    {
     "data": {
      "text/html": [
       "<div>\n",
       "<style scoped>\n",
       "    .dataframe tbody tr th:only-of-type {\n",
       "        vertical-align: middle;\n",
       "    }\n",
       "\n",
       "    .dataframe tbody tr th {\n",
       "        vertical-align: top;\n",
       "    }\n",
       "\n",
       "    .dataframe thead th {\n",
       "        text-align: right;\n",
       "    }\n",
       "</style>\n",
       "<table border=\"1\" class=\"dataframe\">\n",
       "  <thead>\n",
       "    <tr style=\"text-align: right;\">\n",
       "      <th></th>\n",
       "      <th>OOO</th>\n",
       "    </tr>\n",
       "    <tr>\n",
       "      <th>Timestamp</th>\n",
       "      <th></th>\n",
       "    </tr>\n",
       "  </thead>\n",
       "  <tbody>\n",
       "    <tr>\n",
       "      <th>2017-01-31</th>\n",
       "      <td>2</td>\n",
       "    </tr>\n",
       "    <tr>\n",
       "      <th>2017-02-28</th>\n",
       "      <td>2</td>\n",
       "    </tr>\n",
       "    <tr>\n",
       "      <th>2017-03-31</th>\n",
       "      <td>6</td>\n",
       "    </tr>\n",
       "    <tr>\n",
       "      <th>2017-04-30</th>\n",
       "      <td>6</td>\n",
       "    </tr>\n",
       "    <tr>\n",
       "      <th>2017-05-31</th>\n",
       "      <td>2</td>\n",
       "    </tr>\n",
       "    <tr>\n",
       "      <th>2017-06-30</th>\n",
       "      <td>3</td>\n",
       "    </tr>\n",
       "  </tbody>\n",
       "</table>\n",
       "</div>"
      ],
      "text/plain": [
       "            OOO\n",
       "Timestamp      \n",
       "2017-01-31    2\n",
       "2017-02-28    2\n",
       "2017-03-31    6\n",
       "2017-04-30    6\n",
       "2017-05-31    2\n",
       "2017-06-30    3"
      ]
     },
     "execution_count": 122,
     "metadata": {},
     "output_type": "execute_result"
    }
   ],
   "source": [
    "average_ooo.set_index(\"Timestamp\")[\"2017-01-31\":]"
   ]
  },
  {
   "cell_type": "code",
   "execution_count": 146,
   "id": "c624ed3f-de59-4693-a310-489634b2daeb",
   "metadata": {},
   "outputs": [],
   "source": [
    "l = list(\"abcdefghi\")"
   ]
  },
  {
   "cell_type": "code",
   "execution_count": 127,
   "id": "43d1dab4-78a6-42ab-a9ef-1d036aaf0e68",
   "metadata": {},
   "outputs": [
    {
     "data": {
      "text/plain": [
       "{0: 'a', 1: 'b', 2: 'c'}"
      ]
     },
     "execution_count": 127,
     "metadata": {},
     "output_type": "execute_result"
    }
   ],
   "source": [
    "dict(enumerate(\"abc\"))"
   ]
  },
  {
   "cell_type": "code",
   "execution_count": 142,
   "id": "37d45871-8f51-439f-b0fd-7f75751386f4",
   "metadata": {},
   "outputs": [
    {
     "data": {
      "text/plain": [
       "['a', 'b', 'c']"
      ]
     },
     "execution_count": 142,
     "metadata": {},
     "output_type": "execute_result"
    }
   ],
   "source": [
    "l[0:None:1]"
   ]
  },
  {
   "cell_type": "code",
   "execution_count": 151,
   "id": "f179f671-4226-4546-bf5e-a49dbeb5e2b7",
   "metadata": {},
   "outputs": [
    {
     "data": {
      "text/plain": [
       "2.0"
      ]
     },
     "execution_count": 151,
     "metadata": {},
     "output_type": "execute_result"
    }
   ],
   "source": [
    "(5-9)/-2"
   ]
  },
  {
   "cell_type": "code",
   "execution_count": 157,
   "id": "5b7bf412-97ea-4a47-b2c0-083f5a88c694",
   "metadata": {},
   "outputs": [
    {
     "data": {
      "text/plain": [
       "['i', 'f', 'c']"
      ]
     },
     "execution_count": 157,
     "metadata": {},
     "output_type": "execute_result"
    }
   ],
   "source": [
    "l[9::-3]"
   ]
  },
  {
   "cell_type": "code",
   "execution_count": 100,
   "id": "e6fe84b9-5096-4de7-9a10-ab18f119de4a",
   "metadata": {},
   "outputs": [
    {
     "data": {
      "text/html": [
       "<div>\n",
       "<style scoped>\n",
       "    .dataframe tbody tr th:only-of-type {\n",
       "        vertical-align: middle;\n",
       "    }\n",
       "\n",
       "    .dataframe tbody tr th {\n",
       "        vertical-align: top;\n",
       "    }\n",
       "\n",
       "    .dataframe thead th {\n",
       "        text-align: right;\n",
       "    }\n",
       "</style>\n",
       "<table border=\"1\" class=\"dataframe\">\n",
       "  <thead>\n",
       "    <tr style=\"text-align: right;\">\n",
       "      <th></th>\n",
       "      <th>OOO</th>\n",
       "    </tr>\n",
       "  </thead>\n",
       "  <tbody>\n",
       "    <tr>\n",
       "      <th>0</th>\n",
       "      <td>2</td>\n",
       "    </tr>\n",
       "    <tr>\n",
       "      <th>1</th>\n",
       "      <td>2</td>\n",
       "    </tr>\n",
       "    <tr>\n",
       "      <th>2</th>\n",
       "      <td>6</td>\n",
       "    </tr>\n",
       "  </tbody>\n",
       "</table>\n",
       "</div>"
      ],
      "text/plain": [
       "   OOO\n",
       "0    2\n",
       "1    2\n",
       "2    6"
      ]
     },
     "execution_count": 100,
     "metadata": {},
     "output_type": "execute_result"
    }
   ],
   "source": [
    "average_ooo.loc[[True]*3+[False]*3, \"OOO\":]"
   ]
  },
  {
   "cell_type": "code",
   "execution_count": 158,
   "id": "c2672235-6647-4068-bc42-c7c0dc236888",
   "metadata": {},
   "outputs": [
    {
     "data": {
      "text/html": [
       "<div>\n",
       "<style scoped>\n",
       "    .dataframe tbody tr th:only-of-type {\n",
       "        vertical-align: middle;\n",
       "    }\n",
       "\n",
       "    .dataframe tbody tr th {\n",
       "        vertical-align: top;\n",
       "    }\n",
       "\n",
       "    .dataframe thead th {\n",
       "        text-align: right;\n",
       "    }\n",
       "</style>\n",
       "<table border=\"1\" class=\"dataframe\">\n",
       "  <thead>\n",
       "    <tr style=\"text-align: right;\">\n",
       "      <th></th>\n",
       "      <th>OOO</th>\n",
       "    </tr>\n",
       "  </thead>\n",
       "  <tbody>\n",
       "    <tr>\n",
       "      <th>0</th>\n",
       "      <td>2</td>\n",
       "    </tr>\n",
       "    <tr>\n",
       "      <th>1</th>\n",
       "      <td>2</td>\n",
       "    </tr>\n",
       "    <tr>\n",
       "      <th>2</th>\n",
       "      <td>6</td>\n",
       "    </tr>\n",
       "  </tbody>\n",
       "</table>\n",
       "</div>"
      ],
      "text/plain": [
       "   OOO\n",
       "0    2\n",
       "1    2\n",
       "2    6"
      ]
     },
     "execution_count": 158,
     "metadata": {},
     "output_type": "execute_result"
    }
   ],
   "source": [
    "average_ooo.loc[[True]*3+[False]*3, \"OOO\":]"
   ]
  },
  {
   "cell_type": "code",
   "execution_count": 173,
   "id": "5dd7658d-b5a7-4c97-a335-310471e0040b",
   "metadata": {},
   "outputs": [],
   "source": [
    "average_ooo[\"mean\"] = average_ooo[\"OOO\"].std()"
   ]
  },
  {
   "cell_type": "code",
   "execution_count": 174,
   "id": "9d461b2d-12b5-4b4b-ae4e-a9468b591c3f",
   "metadata": {},
   "outputs": [
    {
     "data": {
      "text/plain": [
       "0    1.974842\n",
       "1    1.974842\n",
       "2    1.974842\n",
       "3    1.974842\n",
       "4    1.974842\n",
       "5    1.974842\n",
       "Name: mean, dtype: float64"
      ]
     },
     "execution_count": 174,
     "metadata": {},
     "output_type": "execute_result"
    }
   ],
   "source": [
    "average_ooo[\"mean\"]"
   ]
  },
  {
   "cell_type": "code",
   "execution_count": 175,
   "id": "d530b3b9-3380-4d0e-aa60-2d564dc93c3e",
   "metadata": {},
   "outputs": [],
   "source": [
    "average_ooo.columns = range(3)"
   ]
  },
  {
   "cell_type": "code",
   "execution_count": 177,
   "id": "4a060373-3f7b-42c5-9d6b-b0891bc2d68e",
   "metadata": {},
   "outputs": [
    {
     "data": {
      "text/plain": [
       "0   2017-01-31\n",
       "1   2017-02-28\n",
       "2   2017-03-31\n",
       "3   2017-04-30\n",
       "4   2017-05-31\n",
       "5   2017-06-30\n",
       "Name: 0, dtype: datetime64[ns]"
      ]
     },
     "execution_count": 177,
     "metadata": {},
     "output_type": "execute_result"
    }
   ],
   "source": [
    "average_ooo[0]"
   ]
  },
  {
   "cell_type": "code",
   "execution_count": 183,
   "id": "cae5a009-7387-4757-a654-085afbd969eb",
   "metadata": {},
   "outputs": [
    {
     "data": {
      "text/html": [
       "<div>\n",
       "<style scoped>\n",
       "    .dataframe tbody tr th:only-of-type {\n",
       "        vertical-align: middle;\n",
       "    }\n",
       "\n",
       "    .dataframe tbody tr th {\n",
       "        vertical-align: top;\n",
       "    }\n",
       "\n",
       "    .dataframe thead th {\n",
       "        text-align: right;\n",
       "    }\n",
       "</style>\n",
       "<table border=\"1\" class=\"dataframe\">\n",
       "  <thead>\n",
       "    <tr style=\"text-align: right;\">\n",
       "      <th></th>\n",
       "      <th>0</th>\n",
       "      <th>1</th>\n",
       "      <th>2</th>\n",
       "    </tr>\n",
       "  </thead>\n",
       "  <tbody>\n",
       "    <tr>\n",
       "      <th>0</th>\n",
       "      <td>2017-01-31</td>\n",
       "      <td>2</td>\n",
       "      <td>1.974842</td>\n",
       "    </tr>\n",
       "    <tr>\n",
       "      <th>1</th>\n",
       "      <td>2017-02-28</td>\n",
       "      <td>2</td>\n",
       "      <td>1.974842</td>\n",
       "    </tr>\n",
       "    <tr>\n",
       "      <th>2</th>\n",
       "      <td>2017-03-31</td>\n",
       "      <td>6</td>\n",
       "      <td>1.974842</td>\n",
       "    </tr>\n",
       "    <tr>\n",
       "      <th>3</th>\n",
       "      <td>2017-04-30</td>\n",
       "      <td>6</td>\n",
       "      <td>1.974842</td>\n",
       "    </tr>\n",
       "    <tr>\n",
       "      <th>4</th>\n",
       "      <td>2017-05-31</td>\n",
       "      <td>2</td>\n",
       "      <td>1.974842</td>\n",
       "    </tr>\n",
       "    <tr>\n",
       "      <th>5</th>\n",
       "      <td>2017-06-30</td>\n",
       "      <td>3</td>\n",
       "      <td>1.974842</td>\n",
       "    </tr>\n",
       "  </tbody>\n",
       "</table>\n",
       "</div>"
      ],
      "text/plain": [
       "           0  1         2\n",
       "0 2017-01-31  2  1.974842\n",
       "1 2017-02-28  2  1.974842\n",
       "2 2017-03-31  6  1.974842\n",
       "3 2017-04-30  6  1.974842\n",
       "4 2017-05-31  2  1.974842\n",
       "5 2017-06-30  3  1.974842"
      ]
     },
     "execution_count": 183,
     "metadata": {},
     "output_type": "execute_result"
    }
   ],
   "source": [
    "average_ooo.loc[:]"
   ]
  },
  {
   "cell_type": "code",
   "execution_count": null,
   "id": "5694afe3",
   "metadata": {},
   "outputs": [],
   "source": [
    "#######################################################\n",
    "#######################################################\n",
    "############    COPYRIGHT - DATA SOCIETY   ############\n",
    "#######################################################\n",
    "#######################################################\n",
    "\n",
    "## DATAWRANGLINGINPYTHON/DATAWRANGLINGWITHPANDAS/DATAWRANGLINGINPYTHON DATAWRANGLINGWITHPANDAS 3 ##\n",
    "\n",
    "## NOTE: To run individual pieces of code, select the line of code and\n",
    "##       press ctrl + enter for PCs or command + enter for Macs\n",
    "\n",
    "\n"
   ]
  },
  {
   "cell_type": "code",
   "execution_count": 186,
   "id": "461a9e97",
   "metadata": {},
   "outputs": [
    {
     "data": {
      "text/html": [
       "<div>\n",
       "<style scoped>\n",
       "    .dataframe tbody tr th:only-of-type {\n",
       "        vertical-align: middle;\n",
       "    }\n",
       "\n",
       "    .dataframe tbody tr th {\n",
       "        vertical-align: top;\n",
       "    }\n",
       "\n",
       "    .dataframe thead th {\n",
       "        text-align: right;\n",
       "    }\n",
       "</style>\n",
       "<table border=\"1\" class=\"dataframe\">\n",
       "  <thead>\n",
       "    <tr style=\"text-align: right;\">\n",
       "      <th></th>\n",
       "      <th>id</th>\n",
       "      <th>gender</th>\n",
       "      <th>age</th>\n",
       "      <th>hypertension</th>\n",
       "      <th>heart_disease</th>\n",
       "      <th>ever_married</th>\n",
       "      <th>work_type</th>\n",
       "      <th>Residence_type</th>\n",
       "      <th>avg_glucose_level</th>\n",
       "      <th>bmi</th>\n",
       "      <th>smoking_status</th>\n",
       "      <th>stroke</th>\n",
       "    </tr>\n",
       "  </thead>\n",
       "  <tbody>\n",
       "    <tr>\n",
       "      <th>0</th>\n",
       "      <td>9046</td>\n",
       "      <td>Male</td>\n",
       "      <td>67.0</td>\n",
       "      <td>0</td>\n",
       "      <td>1</td>\n",
       "      <td>Yes</td>\n",
       "      <td>Private</td>\n",
       "      <td>Urban</td>\n",
       "      <td>228.69</td>\n",
       "      <td>36.6</td>\n",
       "      <td>formerly smoked</td>\n",
       "      <td>1</td>\n",
       "    </tr>\n",
       "    <tr>\n",
       "      <th>1</th>\n",
       "      <td>51676</td>\n",
       "      <td>Female</td>\n",
       "      <td>61.0</td>\n",
       "      <td>0</td>\n",
       "      <td>0</td>\n",
       "      <td>Yes</td>\n",
       "      <td>Self-employed</td>\n",
       "      <td>Rural</td>\n",
       "      <td>202.21</td>\n",
       "      <td>NaN</td>\n",
       "      <td>never smoked</td>\n",
       "      <td>1</td>\n",
       "    </tr>\n",
       "    <tr>\n",
       "      <th>2</th>\n",
       "      <td>31112</td>\n",
       "      <td>Male</td>\n",
       "      <td>80.0</td>\n",
       "      <td>0</td>\n",
       "      <td>1</td>\n",
       "      <td>Yes</td>\n",
       "      <td>Private</td>\n",
       "      <td>Rural</td>\n",
       "      <td>105.92</td>\n",
       "      <td>32.5</td>\n",
       "      <td>never smoked</td>\n",
       "      <td>1</td>\n",
       "    </tr>\n",
       "    <tr>\n",
       "      <th>3</th>\n",
       "      <td>60182</td>\n",
       "      <td>Female</td>\n",
       "      <td>49.0</td>\n",
       "      <td>0</td>\n",
       "      <td>0</td>\n",
       "      <td>Yes</td>\n",
       "      <td>Private</td>\n",
       "      <td>Urban</td>\n",
       "      <td>171.23</td>\n",
       "      <td>34.4</td>\n",
       "      <td>smokes</td>\n",
       "      <td>1</td>\n",
       "    </tr>\n",
       "    <tr>\n",
       "      <th>4</th>\n",
       "      <td>1665</td>\n",
       "      <td>Female</td>\n",
       "      <td>79.0</td>\n",
       "      <td>1</td>\n",
       "      <td>0</td>\n",
       "      <td>Yes</td>\n",
       "      <td>Self-employed</td>\n",
       "      <td>Rural</td>\n",
       "      <td>174.12</td>\n",
       "      <td>24.0</td>\n",
       "      <td>never smoked</td>\n",
       "      <td>1</td>\n",
       "    </tr>\n",
       "  </tbody>\n",
       "</table>\n",
       "</div>"
      ],
      "text/plain": [
       "      id  gender   age  hypertension  heart_disease ever_married  \\\n",
       "0   9046    Male  67.0             0              1          Yes   \n",
       "1  51676  Female  61.0             0              0          Yes   \n",
       "2  31112    Male  80.0             0              1          Yes   \n",
       "3  60182  Female  49.0             0              0          Yes   \n",
       "4   1665  Female  79.0             1              0          Yes   \n",
       "\n",
       "       work_type Residence_type  avg_glucose_level   bmi   smoking_status  \\\n",
       "0        Private          Urban             228.69  36.6  formerly smoked   \n",
       "1  Self-employed          Rural             202.21   NaN     never smoked   \n",
       "2        Private          Rural             105.92  32.5     never smoked   \n",
       "3        Private          Urban             171.23  34.4           smokes   \n",
       "4  Self-employed          Rural             174.12  24.0     never smoked   \n",
       "\n",
       "   stroke  \n",
       "0       1  \n",
       "1       1  \n",
       "2       1  \n",
       "3       1  \n",
       "4       1  "
      ]
     },
     "execution_count": 186,
     "metadata": {},
     "output_type": "execute_result"
    }
   ],
   "source": [
    "#=================================================-\n",
    "#### Slide 5: Read data from csv file  ####\n",
    "\n",
    "data_dir = Path.cwd().parent / \"data\"\n",
    "df = pd.read_csv(data_dir / 'healthcare-dataset-stroke-data.csv')\n",
    "df.head()"
   ]
  },
  {
   "cell_type": "code",
   "execution_count": 187,
   "id": "c83df659",
   "metadata": {},
   "outputs": [
    {
     "name": "stdout",
     "output_type": "stream",
     "text": [
      "<class 'pandas.core.frame.DataFrame'>\n",
      "5110\n",
      "5110\n",
      "12\n"
     ]
    }
   ],
   "source": [
    "#=================================================-\n",
    "#### Slide 7: Inspect data   ####\n",
    "\n",
    "print(type(df))  #<- a Pandas DataFrame!\n",
    "\n",
    "print(len(df))   #<- returns the number of rows\n",
    "# You can also save the shape of the dataframe into 2 variables \n",
    "# (since the returned is a tuple with 2 values).\n",
    "\n",
    "nrows, ncols = df.shape\n",
    "print(nrows)      #<- returns the number of rows, or observations\n",
    "print(ncols)      #<- returns the number of columns, or variables\n",
    "\n",
    "\n"
   ]
  },
  {
   "cell_type": "code",
   "execution_count": 188,
   "id": "9a609598",
   "metadata": {},
   "outputs": [
    {
     "name": "stdout",
     "output_type": "stream",
     "text": [
      "      id  gender   age  hypertension  heart_disease ever_married  \\\n",
      "0   9046    Male  67.0             0              1          Yes   \n",
      "1  51676  Female  61.0             0              0          Yes   \n",
      "2  31112    Male  80.0             0              1          Yes   \n",
      "3  60182  Female  49.0             0              0          Yes   \n",
      "4   1665  Female  79.0             1              0          Yes   \n",
      "\n",
      "       work_type Residence_type  avg_glucose_level   bmi   smoking_status  \\\n",
      "0        Private          Urban             228.69  36.6  formerly smoked   \n",
      "1  Self-employed          Rural             202.21   NaN     never smoked   \n",
      "2        Private          Rural             105.92  32.5     never smoked   \n",
      "3        Private          Urban             171.23  34.4           smokes   \n",
      "4  Self-employed          Rural             174.12  24.0     never smoked   \n",
      "\n",
      "   stroke  \n",
      "0       1  \n",
      "1       1  \n",
      "2       1  \n",
      "3       1  \n",
      "4       1  \n"
     ]
    }
   ],
   "source": [
    "#=================================================-\n",
    "#### Slide 8: Previewing data - using head method  ####\n",
    "\n",
    "print(df.head())  #<- pulls the first 5 rows (the default is 5)\n",
    "\n",
    "\n"
   ]
  },
  {
   "cell_type": "code",
   "execution_count": 189,
   "id": "ce02199d",
   "metadata": {},
   "outputs": [
    {
     "name": "stdout",
     "output_type": "stream",
     "text": [
      "      id  gender   age  hypertension  heart_disease ever_married  \\\n",
      "0   9046    Male  67.0             0              1          Yes   \n",
      "1  51676  Female  61.0             0              0          Yes   \n",
      "2  31112    Male  80.0             0              1          Yes   \n",
      "\n",
      "       work_type Residence_type  avg_glucose_level   bmi   smoking_status  \\\n",
      "0        Private          Urban             228.69  36.6  formerly smoked   \n",
      "1  Self-employed          Rural             202.21   NaN     never smoked   \n",
      "2        Private          Rural             105.92  32.5     never smoked   \n",
      "\n",
      "   stroke  \n",
      "0       1  \n",
      "1       1  \n",
      "2       1  \n"
     ]
    }
   ],
   "source": [
    "#=================================================-\n",
    "#### Slide 9: Previewing data - using head method (cont'd)  ####\n",
    "\n",
    "print(df.head(3)) #<- pulls the first 3 rows\n",
    "\n",
    "\n"
   ]
  },
  {
   "cell_type": "code",
   "execution_count": 301,
   "id": "742a0038-9415-4c79-86d1-05a2d6420996",
   "metadata": {},
   "outputs": [],
   "source": [
    "from pandas.plotting import scatter_matrix"
   ]
  },
  {
   "cell_type": "code",
   "execution_count": 308,
   "id": "591616c5-be7b-465c-a7ed-c8e76c83f029",
   "metadata": {},
   "outputs": [],
   "source": [
    "only_num = df.select_dtypes(np.number)"
   ]
  },
  {
   "cell_type": "code",
   "execution_count": 309,
   "id": "b2b5cd94-d7a7-4667-a27d-1fdb00b9c732",
   "metadata": {},
   "outputs": [
    {
     "data": {
      "image/png": "[encoded data removed]",
      "text/plain": [
       "<Figure size 640x480 with 49 Axes>"
      ]
     },
     "metadata": {},
     "output_type": "display_data"
    }
   ],
   "source": [
    "scatter_matrix(only_num);"
   ]
  },
  {
   "cell_type": "code",
   "execution_count": 308,
   "id": "26721275-1ab0-4195-9b5a-6095d7b1ec93",
   "metadata": {},
   "outputs": [],
   "source": [
    "only_num = df.select_dtypes(np.number)\n",
    "only_num = only_num.drop(\"id\", axis=1)"
   ]
  },
  {
   "cell_type": "code",
   "execution_count": 315,
   "id": "c66a661b-4682-4679-a0fe-9c0fdc4ef570",
   "metadata": {},
   "outputs": [
    {
     "data": {
      "text/plain": [
       "age                   43.226614\n",
       "hypertension           0.097456\n",
       "heart_disease          0.054012\n",
       "avg_glucose_level    106.147677\n",
       "bmi                   28.893237\n",
       "stroke                 0.048728\n",
       "dtype: float64"
      ]
     },
     "execution_count": 315,
     "metadata": {},
     "output_type": "execute_result"
    }
   ],
   "source": [
    "only_num.mean()"
   ]
  },
  {
   "cell_type": "code",
   "execution_count": 319,
   "id": "900eabd5-181d-4919-a3c7-00cc316bf211",
   "metadata": {},
   "outputs": [
    {
     "data": {
      "text/plain": [
       "age                    0\n",
       "hypertension           0\n",
       "heart_disease          0\n",
       "avg_glucose_level      0\n",
       "bmi                  201\n",
       "stroke                 0\n",
       "dtype: int64"
      ]
     },
     "execution_count": 319,
     "metadata": {},
     "output_type": "execute_result"
    }
   ],
   "source": [
    "only_num.isna().sum()"
   ]
  },
  {
   "cell_type": "code",
   "execution_count": 227,
   "id": "583209ce",
   "metadata": {},
   "outputs": [
    {
     "name": "stdout",
     "output_type": "stream",
     "text": [
      "         id  gender   age  hypertension  heart_disease ever_married  \\\n",
      "4688  40041    Male  31.0             0              0           No   \n",
      "4478  55244    Male  40.0             0              0          Yes   \n",
      "3849  70992  Female   8.0             0              0           No   \n",
      "\n",
      "          work_type Residence_type  avg_glucose_level   bmi smoking_status  \\\n",
      "4688  Self-employed          Rural              64.85  23.0            NaN   \n",
      "4478  Self-employed          Rural              65.29  28.3   never smoked   \n",
      "3849       children          Urban              74.42  22.5            NaN   \n",
      "\n",
      "      stroke  \n",
      "4688       0  \n",
      "4478       0  \n",
      "3849       0  \n"
     ]
    }
   ],
   "source": [
    "#=================================================-\n",
    "#### Slide 10: Previewing data - using sample method  ####\n",
    "\n",
    "print(df.sample(n=3, random_state=42))      #<- 3 random rows"
   ]
  },
  {
   "cell_type": "code",
   "execution_count": 232,
   "id": "9d33262e-b259-45b8-9259-e380d1e5e4d0",
   "metadata": {},
   "outputs": [],
   "source": [
    "from random import sample, seed"
   ]
  },
  {
   "cell_type": "code",
   "execution_count": 293,
   "id": "5ed53201-2484-4e97-9918-9d3e9633fb49",
   "metadata": {
    "tags": []
   },
   "outputs": [
    {
     "data": {
      "text/plain": [
       "[(912,\n",
       "  id                             11745\n",
       "  gender                        Female\n",
       "  age                             29.0\n",
       "  hypertension                       0\n",
       "  heart_disease                      0\n",
       "  ever_married                     Yes\n",
       "  work_type                    Private\n",
       "  Residence_type                 Urban\n",
       "  avg_glucose_level              65.36\n",
       "  bmi                             28.8\n",
       "  smoking_status       formerly smoked\n",
       "  stroke                             0\n",
       "  Name: 912, dtype: object)]"
      ]
     },
     "execution_count": 293,
     "metadata": {},
     "output_type": "execute_result"
    }
   ],
   "source": [
    "pop = df.iterrows()\n",
    "pop = list(pop)\n",
    "seed(42)\n",
    "sample(pop, 1)"
   ]
  },
  {
   "cell_type": "code",
   "execution_count": 299,
   "id": "15581119",
   "metadata": {},
   "outputs": [
    {
     "data": {
      "text/html": [
       "<div>\n",
       "<style scoped>\n",
       "    .dataframe tbody tr th:only-of-type {\n",
       "        vertical-align: middle;\n",
       "    }\n",
       "\n",
       "    .dataframe tbody tr th {\n",
       "        vertical-align: top;\n",
       "    }\n",
       "\n",
       "    .dataframe thead th {\n",
       "        text-align: right;\n",
       "    }\n",
       "</style>\n",
       "<table border=\"1\" class=\"dataframe\">\n",
       "  <thead>\n",
       "    <tr style=\"text-align: right;\">\n",
       "      <th></th>\n",
       "      <th>id</th>\n",
       "      <th>gender</th>\n",
       "      <th>age</th>\n",
       "      <th>hypertension</th>\n",
       "      <th>heart_disease</th>\n",
       "      <th>ever_married</th>\n",
       "      <th>work_type</th>\n",
       "      <th>Residence_type</th>\n",
       "      <th>avg_glucose_level</th>\n",
       "      <th>bmi</th>\n",
       "      <th>smoking_status</th>\n",
       "      <th>stroke</th>\n",
       "    </tr>\n",
       "  </thead>\n",
       "  <tbody>\n",
       "    <tr>\n",
       "      <th>4688</th>\n",
       "      <td>40041</td>\n",
       "      <td>Male</td>\n",
       "      <td>31.0</td>\n",
       "      <td>0</td>\n",
       "      <td>0</td>\n",
       "      <td>No</td>\n",
       "      <td>Self-employed</td>\n",
       "      <td>Rural</td>\n",
       "      <td>64.85</td>\n",
       "      <td>23.0</td>\n",
       "      <td>NaN</td>\n",
       "      <td>0</td>\n",
       "    </tr>\n",
       "  </tbody>\n",
       "</table>\n",
       "</div>"
      ],
      "text/plain": [
       "         id gender   age  hypertension  heart_disease ever_married  \\\n",
       "4688  40041   Male  31.0             0              0           No   \n",
       "\n",
       "          work_type Residence_type  avg_glucose_level   bmi smoking_status  \\\n",
       "4688  Self-employed          Rural              64.85  23.0            NaN   \n",
       "\n",
       "      stroke  \n",
       "4688       0  "
      ]
     },
     "execution_count": 299,
     "metadata": {},
     "output_type": "execute_result"
    }
   ],
   "source": [
    "#=================================================-\n",
    "#### Slide 11: Previewing data - using sample method (cont'd)  ####\n",
    "\n",
    "df.sample(n=1, random_state=42)"
   ]
  },
  {
   "cell_type": "code",
   "execution_count": 288,
   "id": "50a545e9",
   "metadata": {},
   "outputs": [
    {
     "name": "stdout",
     "output_type": "stream",
     "text": [
      "Index(['id', 'gender', 'age', 'hypertension', 'heart_disease', 'ever_married',\n",
      "       'work_type', 'Residence_type', 'avg_glucose_level', 'bmi',\n",
      "       'smoking_status', 'stroke'],\n",
      "      dtype='object')\n",
      "id                     int64\n",
      "gender                object\n",
      "age                  float64\n",
      "hypertension           int64\n",
      "heart_disease          int64\n",
      "ever_married          object\n",
      "work_type             object\n",
      "Residence_type        object\n",
      "avg_glucose_level    float64\n",
      "bmi                  float64\n",
      "smoking_status        object\n",
      "stroke                 int64\n",
      "dtype: object\n"
     ]
    }
   ],
   "source": [
    "#=================================================-\n",
    "#### Slide 12: Reviewing the data  ####\n",
    "\n",
    "print(df.columns)\n",
    "print(df.dtypes)"
   ]
  },
  {
   "cell_type": "code",
   "execution_count": 289,
   "id": "d3f8cc5f",
   "metadata": {},
   "outputs": [
    {
     "name": "stdout",
     "output_type": "stream",
     "text": [
      "<class 'pandas.core.frame.DataFrame'>\n",
      "RangeIndex: 5110 entries, 0 to 5109\n",
      "Data columns (total 12 columns):\n",
      " #   Column             Non-Null Count  Dtype  \n",
      "---  ------             --------------  -----  \n",
      " 0   id                 5110 non-null   int64  \n",
      " 1   gender             5110 non-null   object \n",
      " 2   age                5110 non-null   float64\n",
      " 3   hypertension       5110 non-null   int64  \n",
      " 4   heart_disease      5110 non-null   int64  \n",
      " 5   ever_married       5110 non-null   object \n",
      " 6   work_type          5110 non-null   object \n",
      " 7   Residence_type     5110 non-null   object \n",
      " 8   avg_glucose_level  5110 non-null   float64\n",
      " 9   bmi                4909 non-null   float64\n",
      " 10  smoking_status     3566 non-null   object \n",
      " 11  stroke             5110 non-null   int64  \n",
      "dtypes: float64(3), int64(4), object(5)\n",
      "memory usage: 479.2+ KB\n",
      "None\n"
     ]
    }
   ],
   "source": [
    "#=================================================-\n",
    "#### Slide 13: Reviewing the data - info  ####\n",
    "\n",
    "print(df.info())  \n",
    "\n",
    "\n"
   ]
  },
  {
   "cell_type": "code",
   "execution_count": 290,
   "id": "d6c2ca13",
   "metadata": {},
   "outputs": [
    {
     "name": "stdout",
     "output_type": "stream",
     "text": [
      "                 id          age  hypertension  heart_disease  \\\n",
      "count   5110.000000  5110.000000   5110.000000    5110.000000   \n",
      "mean   36517.829354    43.226614      0.097456       0.054012   \n",
      "std    21161.721625    22.612647      0.296607       0.226063   \n",
      "min       67.000000     0.080000      0.000000       0.000000   \n",
      "25%    17741.250000    25.000000      0.000000       0.000000   \n",
      "50%    36932.000000    45.000000      0.000000       0.000000   \n",
      "75%    54682.000000    61.000000      0.000000       0.000000   \n",
      "max    72940.000000    82.000000      1.000000       1.000000   \n",
      "\n",
      "       avg_glucose_level          bmi       stroke  \n",
      "count        5110.000000  4909.000000  5110.000000  \n",
      "mean          106.147677    28.893237     0.048728  \n",
      "std            45.283560     7.854067     0.215320  \n",
      "min            55.120000    10.300000     0.000000  \n",
      "25%            77.245000    23.500000     0.000000  \n",
      "50%            91.885000    28.100000     0.000000  \n",
      "75%           114.090000    33.100000     0.000000  \n",
      "max           271.740000    97.600000     1.000000  \n"
     ]
    }
   ],
   "source": [
    "#=================================================-\n",
    "#### Slide 14: Reviewing the data - describe  ####\n",
    "\n",
    "print(df.describe())\n",
    "\n",
    "\n"
   ]
  },
  {
   "cell_type": "code",
   "execution_count": 324,
   "id": "06d2e7b9",
   "metadata": {},
   "outputs": [
    {
     "name": "stdout",
     "output_type": "stream",
     "text": [
      "RangeIndex(start=0, stop=5110, step=1)\n",
      "Int64Index([ 9046, 51676, 31112, 60182,  1665, 56669, 53882, 10434, 27419,\n",
      "            60491,\n",
      "            ...\n",
      "            68398, 36901, 45010, 22127, 14180, 18234, 44873, 19723, 37544,\n",
      "            44679],\n",
      "           dtype='int64', name='id', length=5110)\n"
     ]
    }
   ],
   "source": [
    "#=================================================-\n",
    "#### Slide 15: Reviewing the data - index  ####\n",
    "\n",
    "df = df.reset_index()\n",
    "print(df.index)\n",
    "df = df.set_index('id')\n",
    "print(df.index)"
   ]
  },
  {
   "cell_type": "code",
   "execution_count": null,
   "id": "92e35b01-e021-4cef-8b21-585ca73e1b6c",
   "metadata": {},
   "outputs": [],
   "source": []
  },
  {
   "cell_type": "code",
   "execution_count": 333,
   "id": "249389c9-f1d2-43db-8d6a-614fd49fe344",
   "metadata": {},
   "outputs": [
    {
     "data": {
      "text/plain": [
       "Int64Index([40041], dtype='int64', name='id')"
      ]
     },
     "execution_count": 333,
     "metadata": {},
     "output_type": "execute_result"
    }
   ],
   "source": [
    "df.sample(random_state=42).index"
   ]
  },
  {
   "cell_type": "code",
   "execution_count": 326,
   "id": "a25d19f8",
   "metadata": {},
   "outputs": [
    {
     "name": "stdout",
     "output_type": "stream",
     "text": [
      "[26468]\n",
      "       gender   age  hypertension  heart_disease ever_married work_type  \\\n",
      "id                                                                        \n",
      "26468  Female  45.0             0              0          Yes  Govt_job   \n",
      "\n",
      "      Residence_type  avg_glucose_level   bmi smoking_status  stroke  \n",
      "id                                                                    \n",
      "26468          Urban              82.02  41.8         smokes       0  \n"
     ]
    }
   ],
   "source": [
    "#=================================================-\n",
    "#### Slide 16: Looking up by ID  ####\n",
    "\n",
    "# Look up a specific row by index.\n",
    "# Rake a random index from the dataframe\n",
    "np.set_printoptions(suppress=True)\n",
    "index_random = np.random.permutation(df.index)[:1]\n",
    "print(index_random)\n",
    "print(df.loc[index_random])"
   ]
  },
  {
   "cell_type": "code",
   "execution_count": 338,
   "id": "4970905f-5a56-4444-9e0f-c7c04ff17496",
   "metadata": {},
   "outputs": [
    {
     "data": {
      "text/plain": [
       "Int64Index([36593, 29496, 44873, 70058, 33123, 50541, 30622, 45713, 15324,\n",
       "            69824],\n",
       "           dtype='int64', name='id')"
      ]
     },
     "execution_count": 338,
     "metadata": {},
     "output_type": "execute_result"
    }
   ],
   "source": [
    "df.sample(10).index"
   ]
  },
  {
   "cell_type": "code",
   "execution_count": 334,
   "id": "e3556704",
   "metadata": {},
   "outputs": [
    {
     "name": "stdout",
     "output_type": "stream",
     "text": [
      "       gender   age  hypertension  heart_disease ever_married      work_type  \\\n",
      "id                                                                             \n",
      "31153    Male  66.0             0              0          Yes  Self-employed   \n",
      "49939  Female  54.0             0              0          Yes  Self-employed   \n",
      "23410  Female  72.0             0              0          Yes        Private   \n",
      "30683  Female  75.0             0              0          Yes        Private   \n",
      "55351    Male  63.0             0              0          Yes        Private   \n",
      "46987  Female  65.0             0              1          Yes        Private   \n",
      "5353     Male  52.0             0              1           No        Private   \n",
      "10541    Male  52.0             1              0          Yes        Private   \n",
      "22622    Male  10.0             0              0           No       children   \n",
      "77     Female  13.0             0              0           No       children   \n",
      "\n",
      "      Residence_type  avg_glucose_level   bmi   smoking_status  stroke  \n",
      "id                                                                      \n",
      "31153          Rural             189.82  28.8  formerly smoked       0  \n",
      "49939          Urban              56.75  26.9     never smoked       0  \n",
      "23410          Rural              97.92  26.9           smokes       1  \n",
      "30683          Rural             199.20  26.6              NaN       1  \n",
      "55351          Urban              90.07  36.8              NaN       0  \n",
      "46987          Rural              57.52   NaN  formerly smoked       0  \n",
      "5353           Rural             101.50  31.2           smokes       0  \n",
      "10541          Rural             100.71  37.0     never smoked       0  \n",
      "22622          Rural             108.79  21.0              NaN       0  \n",
      "77             Rural              85.81  18.6              NaN       0  \n"
     ]
    }
   ],
   "source": [
    "#=================================================-\n",
    "#### Slide 17: Looking up by ID (cont'd)  ####\n",
    "\n",
    "print(df.loc[np.random.permutation(df.index)[:10]])\n",
    "\n",
    "\n"
   ]
  },
  {
   "cell_type": "code",
   "execution_count": 339,
   "id": "93ac1168",
   "metadata": {},
   "outputs": [
    {
     "name": "stdout",
     "output_type": "stream",
     "text": [
      "gender                      Female\n",
      "age                           61.0\n",
      "hypertension                     0\n",
      "heart_disease                    0\n",
      "ever_married                   Yes\n",
      "work_type            Self-employed\n",
      "Residence_type               Rural\n",
      "avg_glucose_level           202.21\n",
      "bmi                            NaN\n",
      "smoking_status        never smoked\n",
      "stroke                           1\n",
      "Name: 51676, dtype: object\n"
     ]
    }
   ],
   "source": [
    "#=================================================-\n",
    "#### Slide 18: Looking up with iloc  ####\n",
    "\n",
    "# Look up a specific row by index.\n",
    "print(df.iloc[1])\n",
    "\n",
    "\n"
   ]
  },
  {
   "cell_type": "code",
   "execution_count": 340,
   "id": "739756e2",
   "metadata": {},
   "outputs": [],
   "source": [
    "#=================================================-\n",
    "#### Slide 19: Resetting the index  ####\n",
    "\n",
    "df = df.reset_index()\n",
    "\n",
    "\n",
    "#######################################################\n",
    "####  CONGRATULATIONS ON COMPLETING THIS MODULE!   ####\n",
    "#######################################################\n"
   ]
  },
  {
   "cell_type": "code",
   "execution_count": 341,
   "id": "588e792a-fcd9-47fc-8f0c-cde1c181ff4b",
   "metadata": {},
   "outputs": [
    {
     "data": {
      "text/html": [
       "<div>\n",
       "<style scoped>\n",
       "    .dataframe tbody tr th:only-of-type {\n",
       "        vertical-align: middle;\n",
       "    }\n",
       "\n",
       "    .dataframe tbody tr th {\n",
       "        vertical-align: top;\n",
       "    }\n",
       "\n",
       "    .dataframe thead th {\n",
       "        text-align: right;\n",
       "    }\n",
       "</style>\n",
       "<table border=\"1\" class=\"dataframe\">\n",
       "  <thead>\n",
       "    <tr style=\"text-align: right;\">\n",
       "      <th></th>\n",
       "      <th>id</th>\n",
       "      <th>gender</th>\n",
       "      <th>age</th>\n",
       "      <th>hypertension</th>\n",
       "      <th>heart_disease</th>\n",
       "      <th>ever_married</th>\n",
       "      <th>work_type</th>\n",
       "      <th>Residence_type</th>\n",
       "      <th>avg_glucose_level</th>\n",
       "      <th>bmi</th>\n",
       "      <th>smoking_status</th>\n",
       "      <th>stroke</th>\n",
       "    </tr>\n",
       "  </thead>\n",
       "  <tbody>\n",
       "    <tr>\n",
       "      <th>0</th>\n",
       "      <td>9046</td>\n",
       "      <td>Male</td>\n",
       "      <td>67.0</td>\n",
       "      <td>0</td>\n",
       "      <td>1</td>\n",
       "      <td>Yes</td>\n",
       "      <td>Private</td>\n",
       "      <td>Urban</td>\n",
       "      <td>228.69</td>\n",
       "      <td>36.6</td>\n",
       "      <td>formerly smoked</td>\n",
       "      <td>1</td>\n",
       "    </tr>\n",
       "    <tr>\n",
       "      <th>1</th>\n",
       "      <td>51676</td>\n",
       "      <td>Female</td>\n",
       "      <td>61.0</td>\n",
       "      <td>0</td>\n",
       "      <td>0</td>\n",
       "      <td>Yes</td>\n",
       "      <td>Self-employed</td>\n",
       "      <td>Rural</td>\n",
       "      <td>202.21</td>\n",
       "      <td>NaN</td>\n",
       "      <td>never smoked</td>\n",
       "      <td>1</td>\n",
       "    </tr>\n",
       "    <tr>\n",
       "      <th>2</th>\n",
       "      <td>31112</td>\n",
       "      <td>Male</td>\n",
       "      <td>80.0</td>\n",
       "      <td>0</td>\n",
       "      <td>1</td>\n",
       "      <td>Yes</td>\n",
       "      <td>Private</td>\n",
       "      <td>Rural</td>\n",
       "      <td>105.92</td>\n",
       "      <td>32.5</td>\n",
       "      <td>never smoked</td>\n",
       "      <td>1</td>\n",
       "    </tr>\n",
       "    <tr>\n",
       "      <th>3</th>\n",
       "      <td>60182</td>\n",
       "      <td>Female</td>\n",
       "      <td>49.0</td>\n",
       "      <td>0</td>\n",
       "      <td>0</td>\n",
       "      <td>Yes</td>\n",
       "      <td>Private</td>\n",
       "      <td>Urban</td>\n",
       "      <td>171.23</td>\n",
       "      <td>34.4</td>\n",
       "      <td>smokes</td>\n",
       "      <td>1</td>\n",
       "    </tr>\n",
       "    <tr>\n",
       "      <th>4</th>\n",
       "      <td>1665</td>\n",
       "      <td>Female</td>\n",
       "      <td>79.0</td>\n",
       "      <td>1</td>\n",
       "      <td>0</td>\n",
       "      <td>Yes</td>\n",
       "      <td>Self-employed</td>\n",
       "      <td>Rural</td>\n",
       "      <td>174.12</td>\n",
       "      <td>24.0</td>\n",
       "      <td>never smoked</td>\n",
       "      <td>1</td>\n",
       "    </tr>\n",
       "    <tr>\n",
       "      <th>...</th>\n",
       "      <td>...</td>\n",
       "      <td>...</td>\n",
       "      <td>...</td>\n",
       "      <td>...</td>\n",
       "      <td>...</td>\n",
       "      <td>...</td>\n",
       "      <td>...</td>\n",
       "      <td>...</td>\n",
       "      <td>...</td>\n",
       "      <td>...</td>\n",
       "      <td>...</td>\n",
       "      <td>...</td>\n",
       "    </tr>\n",
       "    <tr>\n",
       "      <th>5105</th>\n",
       "      <td>18234</td>\n",
       "      <td>Female</td>\n",
       "      <td>80.0</td>\n",
       "      <td>1</td>\n",
       "      <td>0</td>\n",
       "      <td>Yes</td>\n",
       "      <td>Private</td>\n",
       "      <td>Urban</td>\n",
       "      <td>83.75</td>\n",
       "      <td>NaN</td>\n",
       "      <td>never smoked</td>\n",
       "      <td>0</td>\n",
       "    </tr>\n",
       "    <tr>\n",
       "      <th>5106</th>\n",
       "      <td>44873</td>\n",
       "      <td>Female</td>\n",
       "      <td>81.0</td>\n",
       "      <td>0</td>\n",
       "      <td>0</td>\n",
       "      <td>Yes</td>\n",
       "      <td>Self-employed</td>\n",
       "      <td>Urban</td>\n",
       "      <td>125.20</td>\n",
       "      <td>40.0</td>\n",
       "      <td>never smoked</td>\n",
       "      <td>0</td>\n",
       "    </tr>\n",
       "    <tr>\n",
       "      <th>5107</th>\n",
       "      <td>19723</td>\n",
       "      <td>Female</td>\n",
       "      <td>35.0</td>\n",
       "      <td>0</td>\n",
       "      <td>0</td>\n",
       "      <td>Yes</td>\n",
       "      <td>Self-employed</td>\n",
       "      <td>Rural</td>\n",
       "      <td>82.99</td>\n",
       "      <td>30.6</td>\n",
       "      <td>never smoked</td>\n",
       "      <td>0</td>\n",
       "    </tr>\n",
       "    <tr>\n",
       "      <th>5108</th>\n",
       "      <td>37544</td>\n",
       "      <td>Male</td>\n",
       "      <td>51.0</td>\n",
       "      <td>0</td>\n",
       "      <td>0</td>\n",
       "      <td>Yes</td>\n",
       "      <td>Private</td>\n",
       "      <td>Rural</td>\n",
       "      <td>166.29</td>\n",
       "      <td>25.6</td>\n",
       "      <td>formerly smoked</td>\n",
       "      <td>0</td>\n",
       "    </tr>\n",
       "    <tr>\n",
       "      <th>5109</th>\n",
       "      <td>44679</td>\n",
       "      <td>Female</td>\n",
       "      <td>44.0</td>\n",
       "      <td>0</td>\n",
       "      <td>0</td>\n",
       "      <td>Yes</td>\n",
       "      <td>Govt_job</td>\n",
       "      <td>Urban</td>\n",
       "      <td>85.28</td>\n",
       "      <td>26.2</td>\n",
       "      <td>NaN</td>\n",
       "      <td>0</td>\n",
       "    </tr>\n",
       "  </tbody>\n",
       "</table>\n",
       "<p>5110 rows × 12 columns</p>\n",
       "</div>"
      ],
      "text/plain": [
       "         id  gender   age  hypertension  heart_disease ever_married  \\\n",
       "0      9046    Male  67.0             0              1          Yes   \n",
       "1     51676  Female  61.0             0              0          Yes   \n",
       "2     31112    Male  80.0             0              1          Yes   \n",
       "3     60182  Female  49.0             0              0          Yes   \n",
       "4      1665  Female  79.0             1              0          Yes   \n",
       "...     ...     ...   ...           ...            ...          ...   \n",
       "5105  18234  Female  80.0             1              0          Yes   \n",
       "5106  44873  Female  81.0             0              0          Yes   \n",
       "5107  19723  Female  35.0             0              0          Yes   \n",
       "5108  37544    Male  51.0             0              0          Yes   \n",
       "5109  44679  Female  44.0             0              0          Yes   \n",
       "\n",
       "          work_type Residence_type  avg_glucose_level   bmi   smoking_status  \\\n",
       "0           Private          Urban             228.69  36.6  formerly smoked   \n",
       "1     Self-employed          Rural             202.21   NaN     never smoked   \n",
       "2           Private          Rural             105.92  32.5     never smoked   \n",
       "3           Private          Urban             171.23  34.4           smokes   \n",
       "4     Self-employed          Rural             174.12  24.0     never smoked   \n",
       "...             ...            ...                ...   ...              ...   \n",
       "5105        Private          Urban              83.75   NaN     never smoked   \n",
       "5106  Self-employed          Urban             125.20  40.0     never smoked   \n",
       "5107  Self-employed          Rural              82.99  30.6     never smoked   \n",
       "5108        Private          Rural             166.29  25.6  formerly smoked   \n",
       "5109       Govt_job          Urban              85.28  26.2              NaN   \n",
       "\n",
       "      stroke  \n",
       "0          1  \n",
       "1          1  \n",
       "2          1  \n",
       "3          1  \n",
       "4          1  \n",
       "...      ...  \n",
       "5105       0  \n",
       "5106       0  \n",
       "5107       0  \n",
       "5108       0  \n",
       "5109       0  \n",
       "\n",
       "[5110 rows x 12 columns]"
      ]
     },
     "execution_count": 341,
     "metadata": {},
     "output_type": "execute_result"
    }
   ],
   "source": [
    "df"
   ]
  },
  {
   "cell_type": "code",
   "execution_count": null,
   "id": "f0e127e2",
   "metadata": {},
   "outputs": [],
   "source": [
    "#######################################################\n",
    "#######################################################\n",
    "############    COPYRIGHT - DATA SOCIETY   ############\n",
    "#######################################################\n",
    "#######################################################\n",
    "\n",
    "## DATAWRANGLINGINPYTHON/DATAWRANGLINGWITHPANDAS/DATAWRANGLINGINPYTHON DATAWRANGLINGWITHPANDAS 4 ##\n",
    "\n",
    "## NOTE: To run individual pieces of code, select the line of code and\n",
    "##       press ctrl + enter for PCs or command + enter for Macs\n",
    "\n",
    "\n"
   ]
  },
  {
   "cell_type": "code",
   "execution_count": 342,
   "id": "50d3cf1a",
   "metadata": {},
   "outputs": [
    {
     "name": "stdout",
     "output_type": "stream",
     "text": [
      "                 id          age  hypertension  heart_disease  \\\n",
      "count   5110.000000  5110.000000   5110.000000    5110.000000   \n",
      "mean   36517.829354    43.226614      0.097456       0.054012   \n",
      "std    21161.721625    22.612647      0.296607       0.226063   \n",
      "min       67.000000     0.080000      0.000000       0.000000   \n",
      "25%    17741.250000    25.000000      0.000000       0.000000   \n",
      "50%    36932.000000    45.000000      0.000000       0.000000   \n",
      "75%    54682.000000    61.000000      0.000000       0.000000   \n",
      "max    72940.000000    82.000000      1.000000       1.000000   \n",
      "\n",
      "       avg_glucose_level          bmi       stroke  \n",
      "count        5110.000000  4909.000000  5110.000000  \n",
      "mean          106.147677    28.893237     0.048728  \n",
      "std            45.283560     7.854067     0.215320  \n",
      "min            55.120000    10.300000     0.000000  \n",
      "25%            77.245000    23.500000     0.000000  \n",
      "50%            91.885000    28.100000     0.000000  \n",
      "75%           114.090000    33.100000     0.000000  \n",
      "max           271.740000    97.600000     1.000000  \n"
     ]
    }
   ],
   "source": [
    "#=================================================-\n",
    "#### Slide 2: DataFrame description metrics   ####\n",
    "\n",
    "print(df.describe())\n",
    "\n",
    "\n"
   ]
  },
  {
   "cell_type": "code",
   "execution_count": 345,
   "id": "277d34f7",
   "metadata": {},
   "outputs": [
    {
     "name": "stdout",
     "output_type": "stream",
     "text": [
      "{'id': 5110, 'gender': 3, 'age': 104, 'hypertension': 2, 'heart_disease': 2, 'ever_married': 2, 'work_type': 5, 'Residence_type': 2, 'avg_glucose_level': 3979, 'bmi': 418, 'smoking_status': 3, 'stroke': 2}\n"
     ]
    }
   ],
   "source": [
    "#=================================================-\n",
    "#### Slide 4: Choosing columns for summarization  ####\n",
    "\n",
    "col_dict = df.nunique().to_dict()\n",
    "print(col_dict)"
   ]
  },
  {
   "cell_type": "code",
   "execution_count": 346,
   "id": "02084b21",
   "metadata": {},
   "outputs": [
    {
     "data": {
      "text/plain": [
       "'hypertension'"
      ]
     },
     "execution_count": 346,
     "metadata": {},
     "output_type": "execute_result"
    }
   ],
   "source": [
    "#=================================================-\n",
    "#### Slide 5: Choosing columns for summarization (cont'd)  ####\n",
    "\n",
    "grouping_col = min(col_dict, key=col_dict.get)\n",
    "grouping_col"
   ]
  },
  {
   "cell_type": "code",
   "execution_count": 348,
   "id": "af7b03fd",
   "metadata": {},
   "outputs": [
    {
     "data": {
      "text/html": [
       "<div>\n",
       "<style scoped>\n",
       "    .dataframe tbody tr th:only-of-type {\n",
       "        vertical-align: middle;\n",
       "    }\n",
       "\n",
       "    .dataframe tbody tr th {\n",
       "        vertical-align: top;\n",
       "    }\n",
       "\n",
       "    .dataframe thead th {\n",
       "        text-align: right;\n",
       "    }\n",
       "</style>\n",
       "<table border=\"1\" class=\"dataframe\">\n",
       "  <thead>\n",
       "    <tr style=\"text-align: right;\">\n",
       "      <th></th>\n",
       "      <th>id</th>\n",
       "      <th>gender</th>\n",
       "      <th>age</th>\n",
       "      <th>heart_disease</th>\n",
       "      <th>ever_married</th>\n",
       "      <th>work_type</th>\n",
       "      <th>Residence_type</th>\n",
       "      <th>avg_glucose_level</th>\n",
       "      <th>bmi</th>\n",
       "      <th>smoking_status</th>\n",
       "      <th>stroke</th>\n",
       "    </tr>\n",
       "    <tr>\n",
       "      <th>hypertension</th>\n",
       "      <th></th>\n",
       "      <th></th>\n",
       "      <th></th>\n",
       "      <th></th>\n",
       "      <th></th>\n",
       "      <th></th>\n",
       "      <th></th>\n",
       "      <th></th>\n",
       "      <th></th>\n",
       "      <th></th>\n",
       "      <th></th>\n",
       "    </tr>\n",
       "  </thead>\n",
       "  <tbody>\n",
       "    <tr>\n",
       "      <th>0</th>\n",
       "      <td>9046</td>\n",
       "      <td>Male</td>\n",
       "      <td>67.0</td>\n",
       "      <td>1</td>\n",
       "      <td>Yes</td>\n",
       "      <td>Private</td>\n",
       "      <td>Urban</td>\n",
       "      <td>228.69</td>\n",
       "      <td>36.6</td>\n",
       "      <td>formerly smoked</td>\n",
       "      <td>1</td>\n",
       "    </tr>\n",
       "    <tr>\n",
       "      <th>1</th>\n",
       "      <td>1665</td>\n",
       "      <td>Female</td>\n",
       "      <td>79.0</td>\n",
       "      <td>0</td>\n",
       "      <td>Yes</td>\n",
       "      <td>Self-employed</td>\n",
       "      <td>Rural</td>\n",
       "      <td>174.12</td>\n",
       "      <td>24.0</td>\n",
       "      <td>never smoked</td>\n",
       "      <td>1</td>\n",
       "    </tr>\n",
       "  </tbody>\n",
       "</table>\n",
       "</div>"
      ],
      "text/plain": [
       "                id  gender   age  heart_disease ever_married      work_type  \\\n",
       "hypertension                                                                  \n",
       "0             9046    Male  67.0              1          Yes        Private   \n",
       "1             1665  Female  79.0              0          Yes  Self-employed   \n",
       "\n",
       "             Residence_type  avg_glucose_level   bmi   smoking_status  stroke  \n",
       "hypertension                                                                   \n",
       "0                     Urban             228.69  36.6  formerly smoked       1  \n",
       "1                     Rural             174.12  24.0     never smoked       1  "
      ]
     },
     "execution_count": 348,
     "metadata": {},
     "output_type": "execute_result"
    }
   ],
   "source": [
    "#=================================================-\n",
    "#### Slide 6: Splitting using groupby()  ####\n",
    "\n",
    "grouped = df.groupby(grouping_col)\n",
    "grouped.first()"
   ]
  },
  {
   "cell_type": "code",
   "execution_count": 351,
   "id": "ea45569c",
   "metadata": {},
   "outputs": [
    {
     "data": {
      "text/plain": [
       "hypertension\n",
       "0    4612\n",
       "1     498\n",
       "Name: id, dtype: int64"
      ]
     },
     "execution_count": 351,
     "metadata": {},
     "output_type": "execute_result"
    }
   ],
   "source": [
    "#=================================================-\n",
    "#### Slide 8: Groupby() and summary functions  ####\n",
    "\n",
    "# Let's count the number of IDs and create a DataFrame.\n",
    "df_ID = grouped['id'].count()\n",
    "df_ID"
   ]
  },
  {
   "cell_type": "code",
   "execution_count": 357,
   "id": "d9c052ff",
   "metadata": {},
   "outputs": [
    {
     "data": {
      "text/plain": [
       "hypertension\n",
       "0    4612\n",
       "1     498\n",
       "Name: id, dtype: int64"
      ]
     },
     "execution_count": 357,
     "metadata": {},
     "output_type": "execute_result"
    }
   ],
   "source": [
    "#=================================================-\n",
    "#### Slide 10: Sorting data with Pandas  ####\n",
    "\n",
    "df_ID.sort_values(ascending=False)"
   ]
  },
  {
   "cell_type": "code",
   "execution_count": 359,
   "id": "0f7d8e34",
   "metadata": {},
   "outputs": [
    {
     "name": "stdout",
     "output_type": "stream",
     "text": [
      "hypertension\n",
      "0                                                          4612\n",
      "1                                                           498\n",
      "over100_ID    hypertension\n",
      "0    True\n",
      "1    True\n",
      "Name: id, dty...\n",
      "Name: id, dtype: object\n"
     ]
    }
   ],
   "source": [
    "#=================================================-\n",
    "#### Slide 11: Adding a new column  ####\n",
    "\n",
    "over100_ID = df_ID > 100\n",
    "\n",
    "# Add the new column.\n",
    "df_ID['over100_ID'] = over100_ID\n",
    "print(df_ID.head())\n",
    "\n",
    "\n",
    "#######################################################\n",
    "####  CONGRATULATIONS ON COMPLETING THIS MODULE!   ####\n",
    "#######################################################\n"
   ]
  },
  {
   "cell_type": "code",
   "execution_count": null,
   "id": "7807ddb7",
   "metadata": {},
   "outputs": [],
   "source": [
    "#######################################################\n",
    "#######################################################\n",
    "############    COPYRIGHT - DATA SOCIETY   ############\n",
    "#######################################################\n",
    "#######################################################\n",
    "\n",
    "## DATAWRANGLINGINPYTHON/DATAWRANGLINGWITHPANDAS/DATAWRANGLINGINPYTHON DATAWRANGLINGWITHPANDAS 5 ##\n",
    "\n",
    "## NOTE: To run individual pieces of code, select the line of code and\n",
    "##       press ctrl + enter for PCs or command + enter for Macs\n",
    "\n",
    "\n"
   ]
  },
  {
   "cell_type": "code",
   "execution_count": 360,
   "id": "fa65a3b5",
   "metadata": {},
   "outputs": [
    {
     "name": "stdout",
     "output_type": "stream",
     "text": [
      "    bmi  avg_glucose_level   age  heart_disease  hypertension  stroke  \\\n",
      "0  36.6             228.69  67.0              1             0       1   \n",
      "1   NaN             202.21  61.0              0             0       1   \n",
      "2  32.5             105.92  80.0              1             0       1   \n",
      "3  34.4             171.23  49.0              0             0       1   \n",
      "4  24.0             174.12  79.0              0             1       1   \n",
      "\n",
      "  Residence_type ever_married   smoking_status  gender      work_type  \n",
      "0          Urban          Yes  formerly smoked    Male        Private  \n",
      "1          Rural          Yes     never smoked  Female  Self-employed  \n",
      "2          Rural          Yes     never smoked    Male        Private  \n",
      "3          Urban          Yes           smokes  Female        Private  \n",
      "4          Rural          Yes     never smoked  Female  Self-employed  \n"
     ]
    }
   ],
   "source": [
    "#=================================================-\n",
    "#### Slide 5: Creating a subset  ####\n",
    "\n",
    "df_subset = df[['bmi', 'avg_glucose_level', 'age', 'heart_disease', 'hypertension', 'stroke', 'Residence_type', 'ever_married', 'smoking_status', 'gender', 'work_type']]\n",
    "print(df_subset.head())\n",
    "\n",
    "\n"
   ]
  },
  {
   "cell_type": "code",
   "execution_count": 361,
   "id": "63592dfc",
   "metadata": {},
   "outputs": [
    {
     "data": {
      "text/plain": [
       "bmi                   201\n",
       "avg_glucose_level       0\n",
       "age                     0\n",
       "heart_disease           0\n",
       "hypertension            0\n",
       "stroke                  0\n",
       "Residence_type          0\n",
       "ever_married            0\n",
       "smoking_status       1544\n",
       "gender                  0\n",
       "work_type               0\n",
       "dtype: int64"
      ]
     },
     "execution_count": 361,
     "metadata": {},
     "output_type": "execute_result"
    }
   ],
   "source": [
    "#=================================================-\n",
    "#### Slide 7: Data prep: clean NAs (cont'd)  ####\n",
    "\n",
    "df_subset.isna().sum()\n",
    "\n",
    "\n"
   ]
  },
  {
   "cell_type": "code",
   "execution_count": 362,
   "id": "1359f185-b55e-46d1-b992-12268a8b3ff6",
   "metadata": {},
   "outputs": [],
   "source": [
    "#=================================================-\n",
    "#### Slide 9: Data cleaning: NAs (cont'd)  ####\n",
    "\n",
    "# Set the DataFrame equal to the imputed dataset.\n",
    "df_subset[['bmi', 'avg_glucose_level', 'age']] = df_subset[['bmi', 'avg_glucose_level', 'age']].fillna(df_subset.mean())\n",
    "# Check how many values are null in the numerical variables.\n",
    "print(df_subset.isna().sum())"
   ]
  },
  {
   "cell_type": "code",
   "execution_count": 364,
   "id": "cb579f55",
   "metadata": {},
   "outputs": [
    {
     "name": "stdout",
     "output_type": "stream",
     "text": [
      "                     bmi  avg_glucose_level        age\n",
      "heart_disease                                         \n",
      "0              28.821693         104.396494  41.801407\n",
      "1              30.146293         136.818768  68.188406\n"
     ]
    }
   ],
   "source": [
    "#=================================================-\n",
    "#### Slide 13: Prepare data: group and summarize (cont'd)  ####\n",
    "\n",
    "col_dict = df_subset.nunique().to_dict()\n",
    "grouping_col = min(col_dict, key=col_dict.get)\n",
    "# Group data by variable with min levels.\n",
    "grouped = df_subset.groupby(grouping_col)\n",
    "# Compute mean on the listed variables using the grouped data.\n",
    "df_grouped_mean = grouped[['bmi', 'avg_glucose_level', 'age']].mean()\n",
    "print(df_grouped_mean)"
   ]
  },
  {
   "cell_type": "code",
   "execution_count": 365,
   "id": "20b4697b",
   "metadata": {},
   "outputs": [
    {
     "name": "stdout",
     "output_type": "stream",
     "text": [
      "   heart_disease        bmi  avg_glucose_level        age\n",
      "0              0  28.821693         104.396494  41.801407\n",
      "1              1  30.146293         136.818768  68.188406\n"
     ]
    }
   ],
   "source": [
    "#=================================================-\n",
    "#### Slide 14: Prepare data: group and summarize (cont'd)  ####\n",
    "\n",
    "# Reset index of the dataset.\n",
    "df_grouped_mean = df_grouped_mean.reset_index()\n",
    "print(df_grouped_mean)\n",
    "\n",
    "\n"
   ]
  },
  {
   "cell_type": "code",
   "execution_count": 366,
   "id": "b19fd5cc",
   "metadata": {},
   "outputs": [
    {
     "name": "stdout",
     "output_type": "stream",
     "text": [
      "   heart_disease             metric        mean\n",
      "0              0                bmi   28.821693\n",
      "1              1                bmi   30.146293\n",
      "2              0  avg_glucose_level  104.396494\n",
      "3              1  avg_glucose_level  136.818768\n",
      "4              0                age   41.801407\n",
      "5              1                age   68.188406\n"
     ]
    }
   ],
   "source": [
    "#=================================================-\n",
    "#### Slide 17: Wide to long format: melt (cont'd)  ####\n",
    "\n",
    "# Melt the wide data into long.\n",
    "df_grouped_mean_long = pd.melt(df_grouped_mean,       #<- wide dataset\n",
    "                                  id_vars = [grouping_col],     #<- identifying variable\n",
    "                                  var_name = 'metric',      #<- contains col names of wide data\n",
    "                                  value_name = 'mean')      #<- contains values from above columns\n",
    "print(df_grouped_mean_long)\n",
    "\n",
    "\n",
    "\n"
   ]
  },
  {
   "cell_type": "code",
   "execution_count": 371,
   "id": "6ed86128-a7ac-43d2-b105-1bc69a7d5960",
   "metadata": {},
   "outputs": [
    {
     "data": {
      "text/plain": [
       "heart_disease      int64\n",
       "metric            object\n",
       "mean             float64\n",
       "dtype: object"
      ]
     },
     "execution_count": 371,
     "metadata": {},
     "output_type": "execute_result"
    }
   ],
   "source": [
    "df_grouped_mean_long.dtypes"
   ]
  },
  {
   "cell_type": "code",
   "execution_count": 385,
   "id": "ae16a9ec-0f3e-4779-a435-9010f6d31bad",
   "metadata": {},
   "outputs": [
    {
     "name": "stderr",
     "output_type": "stream",
     "text": [
      "/var/folders/9t/c4t8v8tx78n62vq0bdrb0v6r0000gp/T/ipykernel_12111/2327594065.py:1: FutureWarning: The default value of numeric_only in DataFrameGroupBy.mean is deprecated. In a future version, numeric_only will default to False. Either specify numeric_only or select only columns which should be valid for the function.\n",
      "  grouped.mean().unstack().sort_values().plot.barh();\n"
     ]
    },
    {
     "data": {
      "image/png": "[encoded data removed]",
      "text/plain": [
       "<Figure size 640x480 with 1 Axes>"
      ]
     },
     "metadata": {},
     "output_type": "display_data"
    }
   ],
   "source": [
    "grouped.mean().unstack().sort_values().plot.barh();"
   ]
  },
  {
   "cell_type": "code",
   "execution_count": 384,
   "id": "223404a4-1436-4723-9b7e-0e1e55c0d8ab",
   "metadata": {},
   "outputs": [
    {
     "data": {
      "image/png": "[encoded data removed]",
      "text/plain": [
       "<Figure size 640x480 with 1 Axes>"
      ]
     },
     "metadata": {},
     "output_type": "display_data"
    }
   ],
   "source": [
    "only_num.mean().sort_values().plot.barh();"
   ]
  },
  {
   "cell_type": "code",
   "execution_count": 387,
   "id": "f6e4d543-4a50-484c-ac88-5ebcffa6fe7d",
   "metadata": {},
   "outputs": [
    {
     "data": {
      "image/png": "[encoded data removed]",
      "text/plain": [
       "<Figure size 640x480 with 1 Axes>"
      ]
     },
     "metadata": {},
     "output_type": "display_data"
    }
   ],
   "source": [
    "df_grouped_mean_long.sort_values(\"mean\").plot.barh(x=\"metric\", y=\"mean\");"
   ]
  },
  {
   "cell_type": "code",
   "execution_count": 367,
   "id": "ec8afd71",
   "metadata": {},
   "outputs": [
    {
     "name": "stdout",
     "output_type": "stream",
     "text": [
      "metric               age  avg_glucose_level        bmi\n",
      "heart_disease                                         \n",
      "0              41.801407         104.396494  28.821693\n",
      "1              68.188406         136.818768  30.146293\n"
     ]
    }
   ],
   "source": [
    "#=================================================-\n",
    "#### Slide 19: Long to wide format: pivot (cont'd)  ####\n",
    "\n",
    "# Melt the long data into wide.\n",
    "df_grouped_mean_wide = df_grouped_mean_long.pivot(\n",
    "                                                    index = [grouping_col],   #<- identifying variable\n",
    "                                                    columns = 'metric', #<- col names of wide data\n",
    "                                                    values = 'mean')    #<- values from above columns\n",
    "print(df_grouped_mean_wide)\n",
    "\n",
    "\n"
   ]
  },
  {
   "cell_type": "code",
   "execution_count": 407,
   "id": "404e21d5-7507-41da-9c57-4851924a7873",
   "metadata": {},
   "outputs": [],
   "source": [
    "covid_cases = pd.read_csv(\"covid_confirmed_usafacts.csv\")"
   ]
  },
  {
   "cell_type": "code",
   "execution_count": 408,
   "id": "4c280f69-a110-4537-b2db-56f7cab3b5f8",
   "metadata": {},
   "outputs": [],
   "source": [
    "melted = covid_cases.melt(id_vars=covid_cases.columns[:4], var_name=\"date\", value_name=\"case_count\")"
   ]
  },
  {
   "cell_type": "code",
   "execution_count": 409,
   "id": "003cf7b2-193f-48f4-9f89-f018601acfd8",
   "metadata": {},
   "outputs": [],
   "source": [
    "melted = melted.set_index(\"date\")"
   ]
  },
  {
   "cell_type": "code",
   "execution_count": 410,
   "id": "52e29df5-630d-45d6-8aca-6ce9e8d92e94",
   "metadata": {},
   "outputs": [
    {
     "data": {
      "text/plain": [
       "State\n",
       "AK      9355.566667\n",
       "AL     23770.397059\n",
       "AR     12717.165789\n",
       "AZ    150041.912500\n",
       "CA    187080.067797\n",
       "CO     26647.615385\n",
       "CT    107400.466667\n",
       "DC     84574.500000\n",
       "DE     81663.000000\n",
       "FL    109338.911765\n",
       "GA     14573.062500\n",
       "HI     61850.500000\n",
       "IA      8926.280000\n",
       "ID     11457.004444\n",
       "IL     35983.135922\n",
       "IN     20889.333333\n",
       "KS      8748.300000\n",
       "KY     13988.347107\n",
       "LA     22450.892308\n",
       "MA    130891.733333\n",
       "MD     50833.760000\n",
       "ME     18374.941176\n",
       "MI     36077.440476\n",
       "MN     17645.909091\n",
       "MO     12413.155172\n",
       "MS     11567.927711\n",
       "MT      5721.284211\n",
       "NC     33892.580198\n",
       "ND      5236.777778\n",
       "NE      5695.680851\n",
       "NH     33667.836364\n",
       "NJ    136425.981818\n",
       "NM     19567.947059\n",
       "NV     48470.844444\n",
       "NY    104251.507937\n",
       "OH     37689.606742\n",
       "OK     16097.025641\n",
       "OR     24613.513514\n",
       "PA     51166.838235\n",
       "RI     72278.700000\n",
       "SC     31524.382979\n",
       "SD      4097.411940\n",
       "TN     24629.156250\n",
       "TX     31973.862745\n",
       "UT     36078.200000\n",
       "VA     16871.611940\n",
       "VT     10044.533333\n",
       "WA     47716.450000\n",
       "WI     27189.208219\n",
       "WV     11336.300000\n",
       "WY      7637.216667\n",
       "Name: case_count, dtype: float64"
      ]
     },
     "execution_count": 410,
     "metadata": {},
     "output_type": "execute_result"
    }
   ],
   "source": [
    "melted[\"2023-02-01\":].groupby(\"State\")[\"case_count\"].mean()"
   ]
  },
  {
   "cell_type": "code",
   "execution_count": 411,
   "id": "09e36925-bfaa-480d-942a-12d7c6c87bd6",
   "metadata": {},
   "outputs": [
    {
     "data": {
      "image/png": "[encoded data removed]",
      "text/plain": [
       "<Figure size 800x1900 with 1 Axes>"
      ]
     },
     "metadata": {},
     "output_type": "display_data"
    }
   ],
   "source": [
    "melted[\"2023-02-01\":].groupby(\"State\")[\"case_count\"].mean().sort_values().plot.barh(figsize=(8, 19));"
   ]
  },
  {
   "cell_type": "code",
   "execution_count": null,
   "id": "56d29686",
   "metadata": {
    "tags": []
   },
   "outputs": [],
   "source": [
    "#=================================================-\n",
    "#### Slide 21: Exercise   ####\n",
    "\n",
    "\n",
    "\n",
    "\n",
    "#######################################################\n",
    "####  CONGRATULATIONS ON COMPLETING THIS MODULE!   ####\n",
    "#######################################################\n"
   ]
  }
 ],
 "metadata": {
  "kernelspec": {
   "display_name": "Python 3 (ipykernel)",
   "language": "python",
   "name": "python3"
  },
  "language": "python",
  "language_info": {
   "codemirror_mode": {
    "name": "ipython",
    "version": 3
   },
   "file_extension": ".py",
   "mimetype": "text/x-python",
   "name": "python",
   "nbconvert_exporter": "python",
   "pygments_lexer": "ipython3",
   "version": "3.9.15"
  }
 },
 "nbformat": 4,
 "nbformat_minor": 5
}
